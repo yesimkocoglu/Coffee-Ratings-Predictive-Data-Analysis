{
 "cells": [
  {
   "cell_type": "code",
   "execution_count": 2,
   "metadata": {},
   "outputs": [
    {
     "name": "stderr",
     "output_type": "stream",
     "text": [
      "WARNING (theano.link.c.cmodule): install mkl with `conda install mkl-service`: No module named 'mkl'\n"
     ]
    }
   ],
   "source": [
    "import numpy as np\n",
    "import pandas as pd\n",
    "import pymc3 as pm\n",
    "import matplotlib.pyplot as plt\n",
    "import arviz as az\n",
    "import daft"
   ]
  },
  {
   "cell_type": "markdown",
   "metadata": {},
   "source": [
    "## Coffee Ratings\n",
    "\n",
    "[The coffee ratings dataset](https://github.com/rfordatascience/tidytuesday/tree/master/data/2020/2020-07-07) contains over 1300 thousand coffee reviews from the Coffee Quality Institute. \n",
    "\n",
    "The description of the variables in this dataset is available [here](https://github.com/rfordatascience/tidytuesday/tree/master/data/2020/2020-07-07). You can also check the [coffee review website](https://www.coffeereview.com/interpret-coffee/) for the meaning of the dimensions they use for review (e.g. aroma, aftertaste etc.).\n",
    "\n",
    "In this assignment, we will analyze a simplified version of this dataset by using `aroma` ($AR$), `aftertaste` ($AT$), `species` ($SP$) and  `total_cup_points` ($CP$) from this dataset. \n",
    "\n"
   ]
  },
  {
   "cell_type": "code",
   "execution_count": 3,
   "metadata": {},
   "outputs": [
    {
     "data": {
      "text/html": [
       "<div>\n",
       "<style scoped>\n",
       "    .dataframe tbody tr th:only-of-type {\n",
       "        vertical-align: middle;\n",
       "    }\n",
       "\n",
       "    .dataframe tbody tr th {\n",
       "        vertical-align: top;\n",
       "    }\n",
       "\n",
       "    .dataframe thead th {\n",
       "        text-align: right;\n",
       "    }\n",
       "</style>\n",
       "<table border=\"1\" class=\"dataframe\">\n",
       "  <thead>\n",
       "    <tr style=\"text-align: right;\">\n",
       "      <th></th>\n",
       "      <th>farm_name</th>\n",
       "      <th>total_cup_points</th>\n",
       "      <th>aroma</th>\n",
       "      <th>aftertaste</th>\n",
       "      <th>species</th>\n",
       "    </tr>\n",
       "  </thead>\n",
       "  <tbody>\n",
       "    <tr>\n",
       "      <th>255</th>\n",
       "      <td>-</td>\n",
       "      <td>84.00</td>\n",
       "      <td>7.67</td>\n",
       "      <td>7.67</td>\n",
       "      <td>Arabica</td>\n",
       "    </tr>\n",
       "    <tr>\n",
       "      <th>1269</th>\n",
       "      <td>1</td>\n",
       "      <td>76.17</td>\n",
       "      <td>7.33</td>\n",
       "      <td>6.50</td>\n",
       "      <td>Arabica</td>\n",
       "    </tr>\n",
       "    <tr>\n",
       "      <th>1307</th>\n",
       "      <td>200 farms</td>\n",
       "      <td>67.92</td>\n",
       "      <td>6.75</td>\n",
       "      <td>6.42</td>\n",
       "      <td>Arabica</td>\n",
       "    </tr>\n",
       "    <tr>\n",
       "      <th>1297</th>\n",
       "      <td>2000 farmers</td>\n",
       "      <td>72.33</td>\n",
       "      <td>6.92</td>\n",
       "      <td>7.08</td>\n",
       "      <td>Arabica</td>\n",
       "    </tr>\n",
       "    <tr>\n",
       "      <th>1047</th>\n",
       "      <td>2000 farms</td>\n",
       "      <td>80.75</td>\n",
       "      <td>7.42</td>\n",
       "      <td>7.42</td>\n",
       "      <td>Arabica</td>\n",
       "    </tr>\n",
       "  </tbody>\n",
       "</table>\n",
       "</div>"
      ],
      "text/plain": [
       "         farm_name  total_cup_points  aroma  aftertaste  species\n",
       "255              -             84.00   7.67        7.67  Arabica\n",
       "1269             1             76.17   7.33        6.50  Arabica\n",
       "1307     200 farms             67.92   6.75        6.42  Arabica\n",
       "1297  2000 farmers             72.33   6.92        7.08  Arabica\n",
       "1047    2000 farms             80.75   7.42        7.42  Arabica"
      ]
     },
     "execution_count": 3,
     "metadata": {},
     "output_type": "execute_result"
    }
   ],
   "source": [
    "d = pd.read_csv(\"coffee_ratings.csv\")\n",
    "\n",
    "dsimp = d[[\"farm_name\", \"total_cup_points\", \"aroma\", \"aftertaste\", \"species\"]].groupby(by='farm_name').sample(n = 1)\n",
    "\n",
    "dsimp.head()"
   ]
  },
  {
   "cell_type": "markdown",
   "metadata": {},
   "source": [
    "## Part 1 - Coffee Quality "
   ]
  },
  {
   "cell_type": "markdown",
   "metadata": {},
   "source": [
    "Suppose we assume the following DAG in which $AR$ is `aroma`, $AT$ `aftertaste`, $SP$ `species`  and $CP$  `total_cup_points`.\n"
   ]
  },
  {
   "cell_type": "code",
   "execution_count": 4,
   "metadata": {},
   "outputs": [
    {
     "data": {
      "text/plain": [
       "<Axes:>"
      ]
     },
     "execution_count": 4,
     "metadata": {},
     "output_type": "execute_result"
    },
    {
     "data": {
      "image/png": "[encoded data removed]",
      "text/plain": [
       "<Figure size 153.071x153.071 with 1 Axes>"
      ]
     },
     "metadata": {},
     "output_type": "display_data"
    }
   ],
   "source": [
    "pgm = daft.PGM()\n",
    "pgm.add_node(\"SP\",\"SP\",0,2)\n",
    "pgm.add_node(\"AR\",\"AR\",0,1)\n",
    "pgm.add_node(\"AT\",\"AT\",2,1)\n",
    "pgm.add_node(\"CP\",\"CP\",1,0)\n",
    "pgm.add_edge(\"SP\", \"AR\")\n",
    "pgm.add_edge(\"AR\", \"AT\")\n",
    "pgm.add_edge(\"AT\", \"CP\")\n",
    "pgm.add_edge(\"AR\", \"CP\")\n",
    "pgm.render()"
   ]
  },
  {
   "cell_type": "markdown",
   "metadata": {},
   "source": [
    "> Note: for all the steps below, do not forget to re-scale your variables considering what they represent, and choose suitable priors. \n",
    "\n",
    "Use backdoor criterion and estimate the **total** effect of $SP$ on $CP$. "
   ]
  },
  {
   "cell_type": "code",
   "execution_count": 43,
   "metadata": {},
   "outputs": [
    {
     "data": {
      "text/html": [
       "<div>\n",
       "<style scoped>\n",
       "    .dataframe tbody tr th:only-of-type {\n",
       "        vertical-align: middle;\n",
       "    }\n",
       "\n",
       "    .dataframe tbody tr th {\n",
       "        vertical-align: top;\n",
       "    }\n",
       "\n",
       "    .dataframe thead th {\n",
       "        text-align: right;\n",
       "    }\n",
       "</style>\n",
       "<table border=\"1\" class=\"dataframe\">\n",
       "  <thead>\n",
       "    <tr style=\"text-align: right;\">\n",
       "      <th></th>\n",
       "      <th>farm_name</th>\n",
       "      <th>total_cup_points</th>\n",
       "      <th>aroma</th>\n",
       "      <th>aftertaste</th>\n",
       "      <th>species</th>\n",
       "      <th>ar</th>\n",
       "      <th>at</th>\n",
       "      <th>cp</th>\n",
       "      <th>sp</th>\n",
       "    </tr>\n",
       "  </thead>\n",
       "  <tbody>\n",
       "    <tr>\n",
       "      <th>255</th>\n",
       "      <td>-</td>\n",
       "      <td>84.00</td>\n",
       "      <td>7.67</td>\n",
       "      <td>7.67</td>\n",
       "      <td>Arabica</td>\n",
       "      <td>0.267075</td>\n",
       "      <td>0.778865</td>\n",
       "      <td>0.675982</td>\n",
       "      <td>0</td>\n",
       "    </tr>\n",
       "    <tr>\n",
       "      <th>1269</th>\n",
       "      <td>1</td>\n",
       "      <td>76.17</td>\n",
       "      <td>7.33</td>\n",
       "      <td>6.50</td>\n",
       "      <td>Arabica</td>\n",
       "      <td>-0.789578</td>\n",
       "      <td>-2.568209</td>\n",
       "      <td>-2.122258</td>\n",
       "      <td>0</td>\n",
       "    </tr>\n",
       "    <tr>\n",
       "      <th>1307</th>\n",
       "      <td>200 farms</td>\n",
       "      <td>67.92</td>\n",
       "      <td>6.75</td>\n",
       "      <td>6.42</td>\n",
       "      <td>Arabica</td>\n",
       "      <td>-2.592103</td>\n",
       "      <td>-2.797069</td>\n",
       "      <td>-5.070595</td>\n",
       "      <td>0</td>\n",
       "    </tr>\n",
       "    <tr>\n",
       "      <th>1297</th>\n",
       "      <td>2000 farmers</td>\n",
       "      <td>72.33</td>\n",
       "      <td>6.92</td>\n",
       "      <td>7.08</td>\n",
       "      <td>Arabica</td>\n",
       "      <td>-2.063777</td>\n",
       "      <td>-0.908976</td>\n",
       "      <td>-3.494575</td>\n",
       "      <td>0</td>\n",
       "    </tr>\n",
       "    <tr>\n",
       "      <th>1047</th>\n",
       "      <td>2000 farms</td>\n",
       "      <td>80.75</td>\n",
       "      <td>7.42</td>\n",
       "      <td>7.42</td>\n",
       "      <td>Arabica</td>\n",
       "      <td>-0.509876</td>\n",
       "      <td>0.063678</td>\n",
       "      <td>-0.485484</td>\n",
       "      <td>0</td>\n",
       "    </tr>\n",
       "  </tbody>\n",
       "</table>\n",
       "</div>"
      ],
      "text/plain": [
       "         farm_name  total_cup_points  aroma  aftertaste  species        ar  \\\n",
       "255              -             84.00   7.67        7.67  Arabica  0.267075   \n",
       "1269             1             76.17   7.33        6.50  Arabica -0.789578   \n",
       "1307     200 farms             67.92   6.75        6.42  Arabica -2.592103   \n",
       "1297  2000 farmers             72.33   6.92        7.08  Arabica -2.063777   \n",
       "1047    2000 farms             80.75   7.42        7.42  Arabica -0.509876   \n",
       "\n",
       "            at        cp  sp  \n",
       "255   0.778865  0.675982   0  \n",
       "1269 -2.568209 -2.122258   0  \n",
       "1307 -2.797069 -5.070595   0  \n",
       "1297 -0.908976 -3.494575   0  \n",
       "1047  0.063678 -0.485484   0  "
      ]
     },
     "execution_count": 43,
     "metadata": {},
     "output_type": "execute_result"
    }
   ],
   "source": [
    "#First,standardize the data\n",
    "dsimp[\"ar\"]=(dsimp.aroma-dsimp.aroma.mean()) / dsimp.aroma.std()\n",
    "dsimp[\"at\"]=(dsimp.aftertaste - dsimp.aftertaste.mean()) / dsimp.aftertaste.std()\n",
    "dsimp[\"cp\"]=(dsimp.total_cup_points-dsimp.total_cup_points.mean())/dsimp.total_cup_points.std()\n",
    "#Create a column sp and change species into dummy variables\n",
    "dsimp[\"sp\"]=dsimp['species']\n",
    "dsimp['sp'] = pd.factorize(dsimp['sp'])[0]\n",
    "dsimp.head()\n",
    "\n",
    "\n",
    "\n",
    "\n",
    "\n"
   ]
  },
  {
   "cell_type": "markdown",
   "metadata": {},
   "source": [
    "$$\n",
    "\\begin{align*} CP_i &\\sim \\text{Normal}(\\mu_i, \\sigma)\n",
    "\\\\\n",
    "\\mu_i &= \\alpha_{sp[i]}\n",
    "\\\\\n",
    "\\alpha_j &\\sim \\text{Normal}(0, 0.5)\n",
    "\\\\\n",
    "\\sigma &\\sim \\text{Exponential}(1) \\end{align*}$$"
   ]
  },
  {
   "cell_type": "code",
   "execution_count": 6,
   "metadata": {},
   "outputs": [
    {
     "name": "stderr",
     "output_type": "stream",
     "text": [
      "Auto-assigning NUTS sampler...\n",
      "Initializing NUTS using jitter+adapt_diag...\n",
      "Multiprocess sampling (4 chains in 4 jobs)\n",
      "NUTS: [sigma, alpha]\n",
      "WARNING (theano.link.c.cmodule): install mkl with `conda install mkl-service`: No module named 'mkl'\n",
      "WARNING (theano.link.c.cmodule): install mkl with `conda install mkl-service`: No module named 'mkl'\n",
      "WARNING (theano.link.c.cmodule): install mkl with `conda install mkl-service`: No module named 'mkl'\n",
      "WARNING (theano.link.c.cmodule): install mkl with `conda install mkl-service`: No module named 'mkl'\n"
     ]
    },
    {
     "data": {
      "text/html": [
       "\n",
       "<style>\n",
       "    /* Turns off some styling */\n",
       "    progress {\n",
       "        /* gets rid of default border in Firefox and Opera. */\n",
       "        border: none;\n",
       "        /* Needs to be in here for Safari polyfill so background images work as expected. */\n",
       "        background-size: auto;\n",
       "    }\n",
       "    .progress-bar-interrupted, .progress-bar-interrupted::-webkit-progress-bar {\n",
       "        background: #F44336;\n",
       "    }\n",
       "</style>\n"
      ],
      "text/plain": [
       "<IPython.core.display.HTML object>"
      ]
     },
     "metadata": {},
     "output_type": "display_data"
    },
    {
     "data": {
      "text/html": [
       "\n",
       "    <div>\n",
       "      <progress value='8000' class='' max='8000' style='width:300px; height:20px; vertical-align: middle;'></progress>\n",
       "      100.00% [8000/8000 00:02<00:00 Sampling 4 chains, 0 divergences]\n",
       "    </div>\n",
       "    "
      ],
      "text/plain": [
       "<IPython.core.display.HTML object>"
      ]
     },
     "metadata": {},
     "output_type": "display_data"
    },
    {
     "name": "stderr",
     "output_type": "stream",
     "text": [
      "Sampling 4 chains for 1_000 tune and 1_000 draw iterations (4_000 + 4_000 draws total) took 14 seconds.\n"
     ]
    }
   ],
   "source": [
    "with pm.Model() as model_sp:\n",
    "    alpha = pm.Normal('alpha', mu = 0, sigma = 0.5, shape = 2)\n",
    "    sigma = pm.Exponential('sigma',1)\n",
    "    mu = alpha[dsimp.sp]\n",
    "    cp = pm.Normal('CP', mu = mu, sigma = sigma, observed = dsimp.cp)\n",
    "    trace_sp = pm.sample(1000, tune = 1000, return_inferencedata=True)"
   ]
  },
  {
   "cell_type": "code",
   "execution_count": 7,
   "metadata": {},
   "outputs": [
    {
     "data": {
      "text/html": [
       "<div>\n",
       "<style scoped>\n",
       "    .dataframe tbody tr th:only-of-type {\n",
       "        vertical-align: middle;\n",
       "    }\n",
       "\n",
       "    .dataframe tbody tr th {\n",
       "        vertical-align: top;\n",
       "    }\n",
       "\n",
       "    .dataframe thead th {\n",
       "        text-align: right;\n",
       "    }\n",
       "</style>\n",
       "<table border=\"1\" class=\"dataframe\">\n",
       "  <thead>\n",
       "    <tr style=\"text-align: right;\">\n",
       "      <th></th>\n",
       "      <th>mean</th>\n",
       "      <th>sd</th>\n",
       "      <th>hdi_3%</th>\n",
       "      <th>hdi_97%</th>\n",
       "    </tr>\n",
       "  </thead>\n",
       "  <tbody>\n",
       "    <tr>\n",
       "      <th>alpha[0]</th>\n",
       "      <td>0.007</td>\n",
       "      <td>0.041</td>\n",
       "      <td>-0.070</td>\n",
       "      <td>0.085</td>\n",
       "    </tr>\n",
       "    <tr>\n",
       "      <th>alpha[1]</th>\n",
       "      <td>-0.216</td>\n",
       "      <td>0.236</td>\n",
       "      <td>-0.669</td>\n",
       "      <td>0.225</td>\n",
       "    </tr>\n",
       "    <tr>\n",
       "      <th>sigma</th>\n",
       "      <td>1.000</td>\n",
       "      <td>0.029</td>\n",
       "      <td>0.949</td>\n",
       "      <td>1.057</td>\n",
       "    </tr>\n",
       "  </tbody>\n",
       "</table>\n",
       "</div>"
      ],
      "text/plain": [
       "           mean     sd  hdi_3%  hdi_97%\n",
       "alpha[0]  0.007  0.041  -0.070    0.085\n",
       "alpha[1] -0.216  0.236  -0.669    0.225\n",
       "sigma     1.000  0.029   0.949    1.057"
      ]
     },
     "execution_count": 7,
     "metadata": {},
     "output_type": "execute_result"
    }
   ],
   "source": [
    "az.summary(trace_sp, kind = \"stats\")"
   ]
  },
  {
   "cell_type": "code",
   "execution_count": 8,
   "metadata": {},
   "outputs": [
    {
     "data": {
      "text/html": [
       "<div>\n",
       "<style scoped>\n",
       "    .dataframe tbody tr th:only-of-type {\n",
       "        vertical-align: middle;\n",
       "    }\n",
       "\n",
       "    .dataframe tbody tr th {\n",
       "        vertical-align: top;\n",
       "    }\n",
       "\n",
       "    .dataframe thead th {\n",
       "        text-align: right;\n",
       "    }\n",
       "</style>\n",
       "<table border=\"1\" class=\"dataframe\">\n",
       "  <thead>\n",
       "    <tr style=\"text-align: right;\">\n",
       "      <th></th>\n",
       "      <th>mcse_mean</th>\n",
       "      <th>mcse_sd</th>\n",
       "      <th>ess_bulk</th>\n",
       "      <th>ess_tail</th>\n",
       "      <th>r_hat</th>\n",
       "    </tr>\n",
       "  </thead>\n",
       "  <tbody>\n",
       "    <tr>\n",
       "      <th>alpha[0]</th>\n",
       "      <td>0.001</td>\n",
       "      <td>0.001</td>\n",
       "      <td>5436.0</td>\n",
       "      <td>3168.0</td>\n",
       "      <td>1.0</td>\n",
       "    </tr>\n",
       "    <tr>\n",
       "      <th>alpha[1]</th>\n",
       "      <td>0.003</td>\n",
       "      <td>0.003</td>\n",
       "      <td>5038.0</td>\n",
       "      <td>3042.0</td>\n",
       "      <td>1.0</td>\n",
       "    </tr>\n",
       "    <tr>\n",
       "      <th>sigma</th>\n",
       "      <td>0.000</td>\n",
       "      <td>0.000</td>\n",
       "      <td>5052.0</td>\n",
       "      <td>2963.0</td>\n",
       "      <td>1.0</td>\n",
       "    </tr>\n",
       "  </tbody>\n",
       "</table>\n",
       "</div>"
      ],
      "text/plain": [
       "          mcse_mean  mcse_sd  ess_bulk  ess_tail  r_hat\n",
       "alpha[0]      0.001    0.001    5436.0    3168.0    1.0\n",
       "alpha[1]      0.003    0.003    5038.0    3042.0    1.0\n",
       "sigma         0.000    0.000    5052.0    2963.0    1.0"
      ]
     },
     "execution_count": 8,
     "metadata": {},
     "output_type": "execute_result"
    }
   ],
   "source": [
    "az.summary(trace_sp, kind = \"diagnostics\")"
   ]
  },
  {
   "cell_type": "code",
   "execution_count": 9,
   "metadata": {},
   "outputs": [
    {
     "data": {
      "text/plain": [
       "(-5.0, 5.0)"
      ]
     },
     "execution_count": 9,
     "metadata": {},
     "output_type": "execute_result"
    },
    {
     "data": {
      "image/png": "[encoded data removed]",
      "text/plain": [
       "<Figure size 648x360 with 1 Axes>"
      ]
     },
     "metadata": {
      "needs_background": "light"
     },
     "output_type": "display_data"
    }
   ],
   "source": [
    "samples = trace_sp.posterior\n",
    "cp1 = np.random.normal(samples.alpha[:,:,0], samples.sigma, size=(200,4,1000))\n",
    "cp2 = np.random.normal(samples.alpha[:,:,1], samples.sigma, size=(200,4,1000))\n",
    "\n",
    "fig, ax = plt.subplots(figsize=(9,5))\n",
    "ax.set_xlabel(\"posterior predicted total cup points\",fontsize=12)\n",
    "ax.set_ylabel(\"density\",fontsize=12)\n",
    "ax.tick_params(axis='both', which='major', labelsize=15)\n",
    "az.plot_dist(cp1, ax = ax, color='r',label='Arabica')\n",
    "az.plot_dist(cp2, ax = ax, color='b', label='Robusta')\n",
    "ax.set_xlim(-5,5)"
   ]
  },
  {
   "cell_type": "markdown",
   "metadata": {},
   "source": [
    "Use backdoor criterion and estimate both the **total effect** and **direct effect** of $AR$ on $CP$."
   ]
  },
  {
   "cell_type": "code",
   "execution_count": 10,
   "metadata": {},
   "outputs": [],
   "source": [
    "#First,look at the total effect of AR on CP\n"
   ]
  },
  {
   "cell_type": "markdown",
   "metadata": {},
   "source": [
    "$$\n",
    "\\begin{align*} CP_i &\\sim \\text{Normal}(\\mu_i, \\sigma)\n",
    "\\\\\n",
    "\\mu_i &= \\alpha + \\beta AR_i  \n",
    "\\\\\n",
    "\\alpha_j &\\sim \\text{Normal}(0, 0.2)\n",
    "\\\\\n",
    "\\color{black}{\\beta \\ } &\\color{black}{\\sim \\text{Normal}(0,0.5)}\n",
    "\\\\\n",
    "\\sigma &\\sim \\text{Exponential}(1) \\end{align*}$$"
   ]
  },
  {
   "cell_type": "code",
   "execution_count": 11,
   "metadata": {},
   "outputs": [
    {
     "data": {
      "image/png": "[encoded data removed]",
      "text/plain": [
       "<Figure size 360x360 with 1 Axes>"
      ]
     },
     "metadata": {
      "needs_background": "light"
     },
     "output_type": "display_data"
    }
   ],
   "source": [
    "#Prior Predictive Analysis\n",
    "with pm.Model() as model_art:\n",
    "    alpha = pm.Normal('alpha', mu = 0, sigma = 0.2)\n",
    "    beta = pm.Normal('beta', mu = 0, sigma = 0.5)\n",
    "    sigma = pm.Exponential('sigma',1)\n",
    "    prior_pred_model_art = pm.sample_prior_predictive()\n",
    "    \n",
    "Aseq = np.linspace(-5, 5, 30)\n",
    "fig, ax = plt.subplots(figsize=(5,5))\n",
    "for i in range(50):\n",
    "    y = prior_pred_model_art['alpha'][i,] + prior_pred_model_art['beta'][i,] * Aseq\n",
    "    ax.plot(Aseq, y, \"r\", alpha = 0.4) \n",
    "    ax.set_xlabel(\"after taste (standardized)\")\n",
    "    ax.set_ylabel(\"total cup points (standardized)\")\n"
   ]
  },
  {
   "cell_type": "code",
   "execution_count": 12,
   "metadata": {},
   "outputs": [
    {
     "name": "stderr",
     "output_type": "stream",
     "text": [
      "Auto-assigning NUTS sampler...\n",
      "Initializing NUTS using jitter+adapt_diag...\n",
      "Multiprocess sampling (4 chains in 4 jobs)\n",
      "NUTS: [sigma, beta, alpha]\n",
      "WARNING (theano.link.c.cmodule): install mkl with `conda install mkl-service`: No module named 'mkl'\n",
      "WARNING (theano.link.c.cmodule): install mkl with `conda install mkl-service`: No module named 'mkl'\n",
      "WARNING (theano.link.c.cmodule): install mkl with `conda install mkl-service`: No module named 'mkl'\n",
      "WARNING (theano.link.c.cmodule): install mkl with `conda install mkl-service`: No module named 'mkl'\n"
     ]
    },
    {
     "data": {
      "text/html": [
       "\n",
       "<style>\n",
       "    /* Turns off some styling */\n",
       "    progress {\n",
       "        /* gets rid of default border in Firefox and Opera. */\n",
       "        border: none;\n",
       "        /* Needs to be in here for Safari polyfill so background images work as expected. */\n",
       "        background-size: auto;\n",
       "    }\n",
       "    .progress-bar-interrupted, .progress-bar-interrupted::-webkit-progress-bar {\n",
       "        background: #F44336;\n",
       "    }\n",
       "</style>\n"
      ],
      "text/plain": [
       "<IPython.core.display.HTML object>"
      ]
     },
     "metadata": {},
     "output_type": "display_data"
    },
    {
     "data": {
      "text/html": [
       "\n",
       "    <div>\n",
       "      <progress value='8000' class='' max='8000' style='width:300px; height:20px; vertical-align: middle;'></progress>\n",
       "      100.00% [8000/8000 00:02<00:00 Sampling 4 chains, 0 divergences]\n",
       "    </div>\n",
       "    "
      ],
      "text/plain": [
       "<IPython.core.display.HTML object>"
      ]
     },
     "metadata": {},
     "output_type": "display_data"
    },
    {
     "name": "stderr",
     "output_type": "stream",
     "text": [
      "Sampling 4 chains for 1_000 tune and 1_000 draw iterations (4_000 + 4_000 draws total) took 12 seconds.\n"
     ]
    }
   ],
   "source": [
    "#Model itself\n",
    "with pm.Model() as model_art:\n",
    "    alpha = pm.Normal('alpha', mu = 0, sigma = 0.2)\n",
    "    beta = pm.Normal('beta', mu = 0, sigma = 0.5)\n",
    "    sigma = pm.Exponential('sigma',1)\n",
    "    mu = alpha + beta*dsimp.ar\n",
    "    cp = pm.Normal('cp', mu = mu,  sigma = sigma, observed = dsimp.cp)\n",
    "    trace_model_art = pm.sample(1000, tune = 1000, return_inferencedata=True)\n",
    "      \n",
    "   "
   ]
  },
  {
   "cell_type": "code",
   "execution_count": 13,
   "metadata": {},
   "outputs": [
    {
     "data": {
      "text/html": [
       "<div>\n",
       "<style scoped>\n",
       "    .dataframe tbody tr th:only-of-type {\n",
       "        vertical-align: middle;\n",
       "    }\n",
       "\n",
       "    .dataframe tbody tr th {\n",
       "        vertical-align: top;\n",
       "    }\n",
       "\n",
       "    .dataframe thead th {\n",
       "        text-align: right;\n",
       "    }\n",
       "</style>\n",
       "<table border=\"1\" class=\"dataframe\">\n",
       "  <thead>\n",
       "    <tr style=\"text-align: right;\">\n",
       "      <th></th>\n",
       "      <th>mean</th>\n",
       "      <th>sd</th>\n",
       "      <th>hdi_3%</th>\n",
       "      <th>hdi_97%</th>\n",
       "    </tr>\n",
       "  </thead>\n",
       "  <tbody>\n",
       "    <tr>\n",
       "      <th>alpha</th>\n",
       "      <td>-0.001</td>\n",
       "      <td>0.029</td>\n",
       "      <td>-0.055</td>\n",
       "      <td>0.051</td>\n",
       "    </tr>\n",
       "    <tr>\n",
       "      <th>beta</th>\n",
       "      <td>0.729</td>\n",
       "      <td>0.029</td>\n",
       "      <td>0.674</td>\n",
       "      <td>0.784</td>\n",
       "    </tr>\n",
       "    <tr>\n",
       "      <th>sigma</th>\n",
       "      <td>0.684</td>\n",
       "      <td>0.020</td>\n",
       "      <td>0.648</td>\n",
       "      <td>0.723</td>\n",
       "    </tr>\n",
       "  </tbody>\n",
       "</table>\n",
       "</div>"
      ],
      "text/plain": [
       "        mean     sd  hdi_3%  hdi_97%\n",
       "alpha -0.001  0.029  -0.055    0.051\n",
       "beta   0.729  0.029   0.674    0.784\n",
       "sigma  0.684  0.020   0.648    0.723"
      ]
     },
     "execution_count": 13,
     "metadata": {},
     "output_type": "execute_result"
    }
   ],
   "source": [
    "az.summary(trace_model_art, kind = \"stats\")    "
   ]
  },
  {
   "cell_type": "code",
   "execution_count": 14,
   "metadata": {},
   "outputs": [
    {
     "data": {
      "text/html": [
       "<div>\n",
       "<style scoped>\n",
       "    .dataframe tbody tr th:only-of-type {\n",
       "        vertical-align: middle;\n",
       "    }\n",
       "\n",
       "    .dataframe tbody tr th {\n",
       "        vertical-align: top;\n",
       "    }\n",
       "\n",
       "    .dataframe thead th {\n",
       "        text-align: right;\n",
       "    }\n",
       "</style>\n",
       "<table border=\"1\" class=\"dataframe\">\n",
       "  <thead>\n",
       "    <tr style=\"text-align: right;\">\n",
       "      <th></th>\n",
       "      <th>mcse_mean</th>\n",
       "      <th>mcse_sd</th>\n",
       "      <th>ess_bulk</th>\n",
       "      <th>ess_tail</th>\n",
       "      <th>r_hat</th>\n",
       "    </tr>\n",
       "  </thead>\n",
       "  <tbody>\n",
       "    <tr>\n",
       "      <th>alpha</th>\n",
       "      <td>0.0</td>\n",
       "      <td>0.0</td>\n",
       "      <td>4762.0</td>\n",
       "      <td>2643.0</td>\n",
       "      <td>1.0</td>\n",
       "    </tr>\n",
       "    <tr>\n",
       "      <th>beta</th>\n",
       "      <td>0.0</td>\n",
       "      <td>0.0</td>\n",
       "      <td>4739.0</td>\n",
       "      <td>2949.0</td>\n",
       "      <td>1.0</td>\n",
       "    </tr>\n",
       "    <tr>\n",
       "      <th>sigma</th>\n",
       "      <td>0.0</td>\n",
       "      <td>0.0</td>\n",
       "      <td>5706.0</td>\n",
       "      <td>3221.0</td>\n",
       "      <td>1.0</td>\n",
       "    </tr>\n",
       "  </tbody>\n",
       "</table>\n",
       "</div>"
      ],
      "text/plain": [
       "       mcse_mean  mcse_sd  ess_bulk  ess_tail  r_hat\n",
       "alpha        0.0      0.0    4762.0    2643.0    1.0\n",
       "beta         0.0      0.0    4739.0    2949.0    1.0\n",
       "sigma        0.0      0.0    5706.0    3221.0    1.0"
      ]
     },
     "execution_count": 14,
     "metadata": {},
     "output_type": "execute_result"
    }
   ],
   "source": [
    "az.summary(trace_model_art, kind = \"diagnostics\") "
   ]
  },
  {
   "cell_type": "code",
   "execution_count": 15,
   "metadata": {},
   "outputs": [
    {
     "data": {
      "text/plain": [
       "array([<AxesSubplot:title={'center':'94.0% HDI'}>], dtype=object)"
      ]
     },
     "execution_count": 15,
     "metadata": {},
     "output_type": "execute_result"
    },
    {
     "data": {
      "image/png": "[encoded data removed]",
      "text/plain": [
       "<Figure size 432x453.6 with 1 Axes>"
      ]
     },
     "metadata": {
      "needs_background": "light"
     },
     "output_type": "display_data"
    }
   ],
   "source": [
    "az.plot_forest(trace_model_art,combined=True)"
   ]
  },
  {
   "cell_type": "code",
   "execution_count": 16,
   "metadata": {},
   "outputs": [],
   "source": [
    "#Secondly,direct effect of AR on CP.Therefore we should stratify AT.\n"
   ]
  },
  {
   "cell_type": "markdown",
   "metadata": {},
   "source": [
    "$$\n",
    "\\begin{align*} CP_i &\\sim \\text{Normal}(\\mu_i, \\sigma)\n",
    "\\\\\n",
    "\\mu_i &= \\alpha + \\beta_r AR_i  +  \\beta_t AT_i\n",
    "\\\\\n",
    "\\alpha &\\sim \\text{Normal}(0, 0.2)\n",
    "\\\\\n",
    "\\color{black}{\\beta_r \\ } &\\color{black}{\\sim \\text{Normal}(0,0.5)}\n",
    "\\\\\n",
    "\\color{black}{\\beta_t \\ } &\\color{black}{\\sim \\text{Normal}(0,0.5)}\n",
    "\\\\\n",
    "\\sigma &\\sim \\text{Exponential}(1) \\end{align*}$$"
   ]
  },
  {
   "cell_type": "code",
   "execution_count": 17,
   "metadata": {
    "scrolled": true
   },
   "outputs": [
    {
     "data": {
      "image/png": "[encoded data removed]",
      "text/plain": [
       "<Figure size 360x360 with 1 Axes>"
      ]
     },
     "metadata": {
      "needs_background": "light"
     },
     "output_type": "display_data"
    }
   ],
   "source": [
    "#Prior Predictive Analysis\n",
    "with pm.Model() as model_ard:\n",
    "    alpha = pm.Normal('alpha', mu = 0, sigma = 0.2)\n",
    "    beta_r = pm.Normal('beta_r', mu = 0, sigma = 0.5)\n",
    "    beta_t = pm.Normal('beta_t', mu = 0, sigma = 0.5)\n",
    "    sigma = pm.Exponential('sigma',1)\n",
    "    prior_pred_model_ard = pm.sample_prior_predictive()\n",
    "    \n",
    "Aseq = np.linspace(-5, 5, 30)\n",
    "fig, ax = plt.subplots(figsize=(5,5))\n",
    "for i in range(50):\n",
    "    y = prior_pred_model_ard['alpha'][i,] + prior_pred_model_ard['beta_r'][i,] * Aseq + prior_pred_model_ard['beta_t'][i,] * Aseq\n",
    "    ax.plot(Aseq, y, \"r\", alpha = 0.4) \n",
    "    ax.set_xlabel(\"after taste (standardized)\")\n",
    "    ax.set_ylabel(\"total cup points (standardized)\")\n",
    "\n",
    "    \n",
    "    "
   ]
  },
  {
   "cell_type": "code",
   "execution_count": 18,
   "metadata": {},
   "outputs": [
    {
     "name": "stderr",
     "output_type": "stream",
     "text": [
      "Auto-assigning NUTS sampler...\n",
      "Initializing NUTS using jitter+adapt_diag...\n",
      "Multiprocess sampling (4 chains in 4 jobs)\n",
      "NUTS: [sigma, beta_t, beta_r, alpha]\n",
      "WARNING (theano.link.c.cmodule): install mkl with `conda install mkl-service`: No module named 'mkl'\n",
      "WARNING (theano.link.c.cmodule): install mkl with `conda install mkl-service`: No module named 'mkl'\n",
      "WARNING (theano.link.c.cmodule): install mkl with `conda install mkl-service`: No module named 'mkl'\n",
      "WARNING (theano.link.c.cmodule): install mkl with `conda install mkl-service`: No module named 'mkl'\n"
     ]
    },
    {
     "data": {
      "text/html": [
       "\n",
       "<style>\n",
       "    /* Turns off some styling */\n",
       "    progress {\n",
       "        /* gets rid of default border in Firefox and Opera. */\n",
       "        border: none;\n",
       "        /* Needs to be in here for Safari polyfill so background images work as expected. */\n",
       "        background-size: auto;\n",
       "    }\n",
       "    .progress-bar-interrupted, .progress-bar-interrupted::-webkit-progress-bar {\n",
       "        background: #F44336;\n",
       "    }\n",
       "</style>\n"
      ],
      "text/plain": [
       "<IPython.core.display.HTML object>"
      ]
     },
     "metadata": {},
     "output_type": "display_data"
    },
    {
     "data": {
      "text/html": [
       "\n",
       "    <div>\n",
       "      <progress value='8000' class='' max='8000' style='width:300px; height:20px; vertical-align: middle;'></progress>\n",
       "      100.00% [8000/8000 00:02<00:00 Sampling 4 chains, 0 divergences]\n",
       "    </div>\n",
       "    "
      ],
      "text/plain": [
       "<IPython.core.display.HTML object>"
      ]
     },
     "metadata": {},
     "output_type": "display_data"
    },
    {
     "name": "stderr",
     "output_type": "stream",
     "text": [
      "Sampling 4 chains for 1_000 tune and 1_000 draw iterations (4_000 + 4_000 draws total) took 13 seconds.\n"
     ]
    }
   ],
   "source": [
    "#Model itself\n",
    "with pm.Model() as model_ard:\n",
    "    alpha = pm.Normal('alpha', mu = 0, sigma = 0.2)\n",
    "    beta_r = pm.Normal('beta_r', mu = 0, sigma = 0.5)\n",
    "    beta_t = pm.Normal('beta_t', mu = 0, sigma = 0.5)\n",
    "    sigma = pm.Exponential('sigma',1)\n",
    "    mu = alpha + beta_r * dsimp[\"ar\"] + beta_t * dsimp[\"at\"]\n",
    "\n",
    "    cp = pm.Normal('cp', mu = mu,  sigma = sigma, observed = dsimp.cp)\n",
    "    trace_model_ard = pm.sample(1000, tune = 1000, return_inferencedata=True)"
   ]
  },
  {
   "cell_type": "code",
   "execution_count": 19,
   "metadata": {},
   "outputs": [
    {
     "data": {
      "text/html": [
       "<div>\n",
       "<style scoped>\n",
       "    .dataframe tbody tr th:only-of-type {\n",
       "        vertical-align: middle;\n",
       "    }\n",
       "\n",
       "    .dataframe tbody tr th {\n",
       "        vertical-align: top;\n",
       "    }\n",
       "\n",
       "    .dataframe thead th {\n",
       "        text-align: right;\n",
       "    }\n",
       "</style>\n",
       "<table border=\"1\" class=\"dataframe\">\n",
       "  <thead>\n",
       "    <tr style=\"text-align: right;\">\n",
       "      <th></th>\n",
       "      <th>mean</th>\n",
       "      <th>sd</th>\n",
       "      <th>hdi_3%</th>\n",
       "      <th>hdi_97%</th>\n",
       "    </tr>\n",
       "  </thead>\n",
       "  <tbody>\n",
       "    <tr>\n",
       "      <th>alpha</th>\n",
       "      <td>-0.001</td>\n",
       "      <td>0.021</td>\n",
       "      <td>-0.042</td>\n",
       "      <td>0.039</td>\n",
       "    </tr>\n",
       "    <tr>\n",
       "      <th>beta_r</th>\n",
       "      <td>0.231</td>\n",
       "      <td>0.031</td>\n",
       "      <td>0.172</td>\n",
       "      <td>0.291</td>\n",
       "    </tr>\n",
       "    <tr>\n",
       "      <th>beta_t</th>\n",
       "      <td>0.678</td>\n",
       "      <td>0.032</td>\n",
       "      <td>0.620</td>\n",
       "      <td>0.738</td>\n",
       "    </tr>\n",
       "    <tr>\n",
       "      <th>sigma</th>\n",
       "      <td>0.506</td>\n",
       "      <td>0.015</td>\n",
       "      <td>0.477</td>\n",
       "      <td>0.532</td>\n",
       "    </tr>\n",
       "  </tbody>\n",
       "</table>\n",
       "</div>"
      ],
      "text/plain": [
       "         mean     sd  hdi_3%  hdi_97%\n",
       "alpha  -0.001  0.021  -0.042    0.039\n",
       "beta_r  0.231  0.031   0.172    0.291\n",
       "beta_t  0.678  0.032   0.620    0.738\n",
       "sigma   0.506  0.015   0.477    0.532"
      ]
     },
     "execution_count": 19,
     "metadata": {},
     "output_type": "execute_result"
    }
   ],
   "source": [
    "az.summary(trace_model_ard, kind = \"stats\") "
   ]
  },
  {
   "cell_type": "code",
   "execution_count": 20,
   "metadata": {},
   "outputs": [
    {
     "data": {
      "text/html": [
       "<div>\n",
       "<style scoped>\n",
       "    .dataframe tbody tr th:only-of-type {\n",
       "        vertical-align: middle;\n",
       "    }\n",
       "\n",
       "    .dataframe tbody tr th {\n",
       "        vertical-align: top;\n",
       "    }\n",
       "\n",
       "    .dataframe thead th {\n",
       "        text-align: right;\n",
       "    }\n",
       "</style>\n",
       "<table border=\"1\" class=\"dataframe\">\n",
       "  <thead>\n",
       "    <tr style=\"text-align: right;\">\n",
       "      <th></th>\n",
       "      <th>mcse_mean</th>\n",
       "      <th>mcse_sd</th>\n",
       "      <th>ess_bulk</th>\n",
       "      <th>ess_tail</th>\n",
       "      <th>r_hat</th>\n",
       "    </tr>\n",
       "  </thead>\n",
       "  <tbody>\n",
       "    <tr>\n",
       "      <th>alpha</th>\n",
       "      <td>0.000</td>\n",
       "      <td>0.0</td>\n",
       "      <td>3712.0</td>\n",
       "      <td>2717.0</td>\n",
       "      <td>1.0</td>\n",
       "    </tr>\n",
       "    <tr>\n",
       "      <th>beta_r</th>\n",
       "      <td>0.001</td>\n",
       "      <td>0.0</td>\n",
       "      <td>2965.0</td>\n",
       "      <td>2853.0</td>\n",
       "      <td>1.0</td>\n",
       "    </tr>\n",
       "    <tr>\n",
       "      <th>beta_t</th>\n",
       "      <td>0.001</td>\n",
       "      <td>0.0</td>\n",
       "      <td>3017.0</td>\n",
       "      <td>2681.0</td>\n",
       "      <td>1.0</td>\n",
       "    </tr>\n",
       "    <tr>\n",
       "      <th>sigma</th>\n",
       "      <td>0.000</td>\n",
       "      <td>0.0</td>\n",
       "      <td>3529.0</td>\n",
       "      <td>2926.0</td>\n",
       "      <td>1.0</td>\n",
       "    </tr>\n",
       "  </tbody>\n",
       "</table>\n",
       "</div>"
      ],
      "text/plain": [
       "        mcse_mean  mcse_sd  ess_bulk  ess_tail  r_hat\n",
       "alpha       0.000      0.0    3712.0    2717.0    1.0\n",
       "beta_r      0.001      0.0    2965.0    2853.0    1.0\n",
       "beta_t      0.001      0.0    3017.0    2681.0    1.0\n",
       "sigma       0.000      0.0    3529.0    2926.0    1.0"
      ]
     },
     "execution_count": 20,
     "metadata": {},
     "output_type": "execute_result"
    }
   ],
   "source": [
    "az.summary(trace_model_ard, kind = \"diagnostics\") "
   ]
  },
  {
   "cell_type": "code",
   "execution_count": 21,
   "metadata": {},
   "outputs": [
    {
     "data": {
      "text/plain": [
       "array([<AxesSubplot:title={'center':'94.0% HDI'}>], dtype=object)"
      ]
     },
     "execution_count": 21,
     "metadata": {},
     "output_type": "execute_result"
    },
    {
     "data": {
      "image/png": "[encoded data removed]",
      "text/plain": [
       "<Figure size 432x532.8 with 1 Axes>"
      ]
     },
     "metadata": {
      "needs_background": "light"
     },
     "output_type": "display_data"
    }
   ],
   "source": [
    "az.plot_forest(trace_model_ard,combined=True)"
   ]
  },
  {
   "cell_type": "markdown",
   "metadata": {},
   "source": [
    "\n",
    "\n",
    "Estimate the **direct effect** of $AT$ on $CP$. "
   ]
  },
  {
   "cell_type": "code",
   "execution_count": 22,
   "metadata": {},
   "outputs": [],
   "source": [
    "#To estimate the direct effect of AT on CP, we should stratify AR according to backdoor criterion. \n",
    "#When we stratify AR, we have the same model as above."
   ]
  },
  {
   "cell_type": "code",
   "execution_count": 23,
   "metadata": {},
   "outputs": [
    {
     "name": "stderr",
     "output_type": "stream",
     "text": [
      "Auto-assigning NUTS sampler...\n",
      "Initializing NUTS using jitter+adapt_diag...\n",
      "Multiprocess sampling (4 chains in 4 jobs)\n",
      "NUTS: [sigma, beta_t, beta_r, alpha]\n",
      "WARNING (theano.link.c.cmodule): install mkl with `conda install mkl-service`: No module named 'mkl'\n",
      "WARNING (theano.link.c.cmodule): install mkl with `conda install mkl-service`: No module named 'mkl'\n",
      "WARNING (theano.link.c.cmodule): install mkl with `conda install mkl-service`: No module named 'mkl'\n",
      "WARNING (theano.link.c.cmodule): install mkl with `conda install mkl-service`: No module named 'mkl'\n"
     ]
    },
    {
     "data": {
      "text/html": [
       "\n",
       "<style>\n",
       "    /* Turns off some styling */\n",
       "    progress {\n",
       "        /* gets rid of default border in Firefox and Opera. */\n",
       "        border: none;\n",
       "        /* Needs to be in here for Safari polyfill so background images work as expected. */\n",
       "        background-size: auto;\n",
       "    }\n",
       "    .progress-bar-interrupted, .progress-bar-interrupted::-webkit-progress-bar {\n",
       "        background: #F44336;\n",
       "    }\n",
       "</style>\n"
      ],
      "text/plain": [
       "<IPython.core.display.HTML object>"
      ]
     },
     "metadata": {},
     "output_type": "display_data"
    },
    {
     "data": {
      "text/html": [
       "\n",
       "    <div>\n",
       "      <progress value='8000' class='' max='8000' style='width:300px; height:20px; vertical-align: middle;'></progress>\n",
       "      100.00% [8000/8000 00:02<00:00 Sampling 4 chains, 0 divergences]\n",
       "    </div>\n",
       "    "
      ],
      "text/plain": [
       "<IPython.core.display.HTML object>"
      ]
     },
     "metadata": {},
     "output_type": "display_data"
    },
    {
     "name": "stderr",
     "output_type": "stream",
     "text": [
      "Sampling 4 chains for 1_000 tune and 1_000 draw iterations (4_000 + 4_000 draws total) took 13 seconds.\n"
     ]
    }
   ],
   "source": [
    "with pm.Model() as model_atd:\n",
    "    alpha = pm.Normal('alpha', mu = 0, sigma = 0.2)\n",
    "    beta_r = pm.Normal('beta_r', mu = 0, sigma = 0.5)\n",
    "    beta_t = pm.Normal('beta_t', mu = 0, sigma = 0.5)\n",
    "    sigma = pm.Exponential('sigma',1)\n",
    "    mu = alpha + beta_r * dsimp.ar + beta_t * dsimp[\"at\"]\n",
    "\n",
    "    cp = pm.Normal('cp', mu = mu,  sigma = sigma, observed = dsimp.cp)\n",
    "    trace_model_atd = pm.sample(1000, tune = 1000, return_inferencedata=True)"
   ]
  },
  {
   "cell_type": "code",
   "execution_count": 24,
   "metadata": {},
   "outputs": [
    {
     "data": {
      "text/html": [
       "<div>\n",
       "<style scoped>\n",
       "    .dataframe tbody tr th:only-of-type {\n",
       "        vertical-align: middle;\n",
       "    }\n",
       "\n",
       "    .dataframe tbody tr th {\n",
       "        vertical-align: top;\n",
       "    }\n",
       "\n",
       "    .dataframe thead th {\n",
       "        text-align: right;\n",
       "    }\n",
       "</style>\n",
       "<table border=\"1\" class=\"dataframe\">\n",
       "  <thead>\n",
       "    <tr style=\"text-align: right;\">\n",
       "      <th></th>\n",
       "      <th>mean</th>\n",
       "      <th>sd</th>\n",
       "      <th>hdi_3%</th>\n",
       "      <th>hdi_97%</th>\n",
       "    </tr>\n",
       "  </thead>\n",
       "  <tbody>\n",
       "    <tr>\n",
       "      <th>alpha</th>\n",
       "      <td>0.000</td>\n",
       "      <td>0.021</td>\n",
       "      <td>-0.041</td>\n",
       "      <td>0.039</td>\n",
       "    </tr>\n",
       "    <tr>\n",
       "      <th>beta_r</th>\n",
       "      <td>0.230</td>\n",
       "      <td>0.032</td>\n",
       "      <td>0.171</td>\n",
       "      <td>0.289</td>\n",
       "    </tr>\n",
       "    <tr>\n",
       "      <th>beta_t</th>\n",
       "      <td>0.679</td>\n",
       "      <td>0.032</td>\n",
       "      <td>0.615</td>\n",
       "      <td>0.735</td>\n",
       "    </tr>\n",
       "    <tr>\n",
       "      <th>sigma</th>\n",
       "      <td>0.505</td>\n",
       "      <td>0.015</td>\n",
       "      <td>0.478</td>\n",
       "      <td>0.534</td>\n",
       "    </tr>\n",
       "  </tbody>\n",
       "</table>\n",
       "</div>"
      ],
      "text/plain": [
       "         mean     sd  hdi_3%  hdi_97%\n",
       "alpha   0.000  0.021  -0.041    0.039\n",
       "beta_r  0.230  0.032   0.171    0.289\n",
       "beta_t  0.679  0.032   0.615    0.735\n",
       "sigma   0.505  0.015   0.478    0.534"
      ]
     },
     "execution_count": 24,
     "metadata": {},
     "output_type": "execute_result"
    }
   ],
   "source": [
    "az.summary(trace_model_atd, kind = \"stats\") "
   ]
  },
  {
   "cell_type": "code",
   "execution_count": 25,
   "metadata": {},
   "outputs": [
    {
     "data": {
      "text/html": [
       "<div>\n",
       "<style scoped>\n",
       "    .dataframe tbody tr th:only-of-type {\n",
       "        vertical-align: middle;\n",
       "    }\n",
       "\n",
       "    .dataframe tbody tr th {\n",
       "        vertical-align: top;\n",
       "    }\n",
       "\n",
       "    .dataframe thead th {\n",
       "        text-align: right;\n",
       "    }\n",
       "</style>\n",
       "<table border=\"1\" class=\"dataframe\">\n",
       "  <thead>\n",
       "    <tr style=\"text-align: right;\">\n",
       "      <th></th>\n",
       "      <th>mcse_mean</th>\n",
       "      <th>mcse_sd</th>\n",
       "      <th>ess_bulk</th>\n",
       "      <th>ess_tail</th>\n",
       "      <th>r_hat</th>\n",
       "    </tr>\n",
       "  </thead>\n",
       "  <tbody>\n",
       "    <tr>\n",
       "      <th>alpha</th>\n",
       "      <td>0.000</td>\n",
       "      <td>0.0</td>\n",
       "      <td>3836.0</td>\n",
       "      <td>2801.0</td>\n",
       "      <td>1.0</td>\n",
       "    </tr>\n",
       "    <tr>\n",
       "      <th>beta_r</th>\n",
       "      <td>0.001</td>\n",
       "      <td>0.0</td>\n",
       "      <td>2599.0</td>\n",
       "      <td>2512.0</td>\n",
       "      <td>1.0</td>\n",
       "    </tr>\n",
       "    <tr>\n",
       "      <th>beta_t</th>\n",
       "      <td>0.001</td>\n",
       "      <td>0.0</td>\n",
       "      <td>2548.0</td>\n",
       "      <td>2630.0</td>\n",
       "      <td>1.0</td>\n",
       "    </tr>\n",
       "    <tr>\n",
       "      <th>sigma</th>\n",
       "      <td>0.000</td>\n",
       "      <td>0.0</td>\n",
       "      <td>3518.0</td>\n",
       "      <td>2668.0</td>\n",
       "      <td>1.0</td>\n",
       "    </tr>\n",
       "  </tbody>\n",
       "</table>\n",
       "</div>"
      ],
      "text/plain": [
       "        mcse_mean  mcse_sd  ess_bulk  ess_tail  r_hat\n",
       "alpha       0.000      0.0    3836.0    2801.0    1.0\n",
       "beta_r      0.001      0.0    2599.0    2512.0    1.0\n",
       "beta_t      0.001      0.0    2548.0    2630.0    1.0\n",
       "sigma       0.000      0.0    3518.0    2668.0    1.0"
      ]
     },
     "execution_count": 25,
     "metadata": {},
     "output_type": "execute_result"
    }
   ],
   "source": [
    "az.summary(trace_model_atd, kind = \"diagnostics\") "
   ]
  },
  {
   "cell_type": "code",
   "execution_count": 26,
   "metadata": {},
   "outputs": [
    {
     "data": {
      "text/plain": [
       "array([<AxesSubplot:title={'center':'94.0% HDI'}>], dtype=object)"
      ]
     },
     "execution_count": 26,
     "metadata": {},
     "output_type": "execute_result"
    },
    {
     "data": {
      "image/png": "[encoded data removed]",
      "text/plain": [
       "<Figure size 432x532.8 with 1 Axes>"
      ]
     },
     "metadata": {
      "needs_background": "light"
     },
     "output_type": "display_data"
    }
   ],
   "source": [
    "az.plot_forest(trace_model_atd,combined=True)"
   ]
  },
  {
   "cell_type": "markdown",
   "metadata": {},
   "source": [
    "Based on the DAG, and your estimates above, discuss the effects of these measures on coffee quality.  \n",
    "\n",
    "---\n",
    "\n",
    "** When we look at the model 1,total effect of SP on CP, we see that average total cup points of Arabica is greater than the average total cup points of Robusta.\n",
    "   When we look at the model 2, total effect of AR on CP, we see that aroma has a positive linear relation with total cup points since beta is positive. \n",
    "   When we look at the model 3,direct effect of AR and AT on CP, we can say that Aftertaste grade's direct effect is greater than Aroma grade's direct effect on total cup points since beta of AT is greater beta of AR.\n",
    " **\n",
    "\n",
    "---"
   ]
  },
  {
   "cell_type": "markdown",
   "metadata": {},
   "source": [
    "## Part 2 - Model Comparison\n",
    "\n",
    "You must have three different models from the part above. Apart from those models, build a causal model where you stratify for all variables ($AR$, $SP$, $AT$). "
   ]
  },
  {
   "cell_type": "markdown",
   "metadata": {},
   "source": [
    "$$\n",
    "\\begin{align*} CP_i &\\sim \\text{Normal}(\\mu_i, \\sigma)\n",
    "\\\\\n",
    "\\mu_i &= \\alpha_{s[i]} + \\beta_{rs[i]} AR_i  +  \\beta_{ts[i]} AT_i\n",
    "\\\\\n",
    "\\alpha_j &\\sim \\text{Normal}(0, 0.2)\n",
    "\\\\\n",
    "\\color{black}{\\beta_{rj} \\ } &\\color{black}{\\sim \\text{Normal}(0,0.5)}\n",
    "\\\\\n",
    "\\color{black}{\\beta_{tj} \\ } &\\color{black}{\\sim \\text{Normal}(0,0.5)}\n",
    "\\\\\n",
    "\\sigma &\\sim \\text{Exponential}(1) \\end{align*}$$"
   ]
  },
  {
   "cell_type": "code",
   "execution_count": 27,
   "metadata": {},
   "outputs": [
    {
     "name": "stderr",
     "output_type": "stream",
     "text": [
      "Auto-assigning NUTS sampler...\n",
      "Initializing NUTS using jitter+adapt_diag...\n",
      "Multiprocess sampling (4 chains in 4 jobs)\n",
      "NUTS: [sigma, beta_t, beta_r, alpha]\n",
      "WARNING (theano.link.c.cmodule): install mkl with `conda install mkl-service`: No module named 'mkl'\n",
      "WARNING (theano.link.c.cmodule): install mkl with `conda install mkl-service`: No module named 'mkl'\n",
      "WARNING (theano.link.c.cmodule): install mkl with `conda install mkl-service`: No module named 'mkl'\n",
      "WARNING (theano.link.c.cmodule): install mkl with `conda install mkl-service`: No module named 'mkl'\n"
     ]
    },
    {
     "data": {
      "text/html": [
       "\n",
       "<style>\n",
       "    /* Turns off some styling */\n",
       "    progress {\n",
       "        /* gets rid of default border in Firefox and Opera. */\n",
       "        border: none;\n",
       "        /* Needs to be in here for Safari polyfill so background images work as expected. */\n",
       "        background-size: auto;\n",
       "    }\n",
       "    .progress-bar-interrupted, .progress-bar-interrupted::-webkit-progress-bar {\n",
       "        background: #F44336;\n",
       "    }\n",
       "</style>\n"
      ],
      "text/plain": [
       "<IPython.core.display.HTML object>"
      ]
     },
     "metadata": {},
     "output_type": "display_data"
    },
    {
     "data": {
      "text/html": [
       "\n",
       "    <div>\n",
       "      <progress value='8000' class='' max='8000' style='width:300px; height:20px; vertical-align: middle;'></progress>\n",
       "      100.00% [8000/8000 00:03<00:00 Sampling 4 chains, 0 divergences]\n",
       "    </div>\n",
       "    "
      ],
      "text/plain": [
       "<IPython.core.display.HTML object>"
      ]
     },
     "metadata": {},
     "output_type": "display_data"
    },
    {
     "name": "stderr",
     "output_type": "stream",
     "text": [
      "Sampling 4 chains for 1_000 tune and 1_000 draw iterations (4_000 + 4_000 draws total) took 14 seconds.\n"
     ]
    }
   ],
   "source": [
    "with pm.Model() as model_all:\n",
    "    alpha = pm.Normal('alpha', mu = 0, sigma = 0.2,shape = 2)\n",
    "    beta_r = pm.Normal('beta_r', mu = 0, sigma = 0.5,shape = 2)\n",
    "    beta_t = pm.Normal('beta_t', mu = 0, sigma = 0.5,shape = 2)\n",
    "    sigma = pm.Exponential('sigma',1)\n",
    "    mu = alpha[dsimp.sp] + beta_r[dsimp.sp] * dsimp.ar + beta_t[dsimp.sp] * dsimp[\"at\"]\n",
    "\n",
    "    cp = pm.Normal('cp', mu = mu,  sigma = sigma, observed = dsimp.cp)\n",
    "    trace_model_all = pm.sample(1000, tune = 1000, return_inferencedata=True)"
   ]
  },
  {
   "cell_type": "code",
   "execution_count": 28,
   "metadata": {},
   "outputs": [
    {
     "data": {
      "text/html": [
       "<div>\n",
       "<style scoped>\n",
       "    .dataframe tbody tr th:only-of-type {\n",
       "        vertical-align: middle;\n",
       "    }\n",
       "\n",
       "    .dataframe tbody tr th {\n",
       "        vertical-align: top;\n",
       "    }\n",
       "\n",
       "    .dataframe thead th {\n",
       "        text-align: right;\n",
       "    }\n",
       "</style>\n",
       "<table border=\"1\" class=\"dataframe\">\n",
       "  <thead>\n",
       "    <tr style=\"text-align: right;\">\n",
       "      <th></th>\n",
       "      <th>mean</th>\n",
       "      <th>sd</th>\n",
       "      <th>hdi_3%</th>\n",
       "      <th>hdi_97%</th>\n",
       "    </tr>\n",
       "  </thead>\n",
       "  <tbody>\n",
       "    <tr>\n",
       "      <th>alpha[0]</th>\n",
       "      <td>0.022</td>\n",
       "      <td>0.021</td>\n",
       "      <td>-0.016</td>\n",
       "      <td>0.063</td>\n",
       "    </tr>\n",
       "    <tr>\n",
       "      <th>alpha[1]</th>\n",
       "      <td>-0.388</td>\n",
       "      <td>0.141</td>\n",
       "      <td>-0.649</td>\n",
       "      <td>-0.132</td>\n",
       "    </tr>\n",
       "    <tr>\n",
       "      <th>beta_r[0]</th>\n",
       "      <td>0.225</td>\n",
       "      <td>0.031</td>\n",
       "      <td>0.171</td>\n",
       "      <td>0.286</td>\n",
       "    </tr>\n",
       "    <tr>\n",
       "      <th>beta_r[1]</th>\n",
       "      <td>0.249</td>\n",
       "      <td>0.163</td>\n",
       "      <td>-0.058</td>\n",
       "      <td>0.552</td>\n",
       "    </tr>\n",
       "    <tr>\n",
       "      <th>beta_t[0]</th>\n",
       "      <td>0.700</td>\n",
       "      <td>0.031</td>\n",
       "      <td>0.640</td>\n",
       "      <td>0.755</td>\n",
       "    </tr>\n",
       "    <tr>\n",
       "      <th>beta_t[1]</th>\n",
       "      <td>0.206</td>\n",
       "      <td>0.191</td>\n",
       "      <td>-0.169</td>\n",
       "      <td>0.547</td>\n",
       "    </tr>\n",
       "    <tr>\n",
       "      <th>sigma</th>\n",
       "      <td>0.488</td>\n",
       "      <td>0.014</td>\n",
       "      <td>0.461</td>\n",
       "      <td>0.514</td>\n",
       "    </tr>\n",
       "  </tbody>\n",
       "</table>\n",
       "</div>"
      ],
      "text/plain": [
       "            mean     sd  hdi_3%  hdi_97%\n",
       "alpha[0]   0.022  0.021  -0.016    0.063\n",
       "alpha[1]  -0.388  0.141  -0.649   -0.132\n",
       "beta_r[0]  0.225  0.031   0.171    0.286\n",
       "beta_r[1]  0.249  0.163  -0.058    0.552\n",
       "beta_t[0]  0.700  0.031   0.640    0.755\n",
       "beta_t[1]  0.206  0.191  -0.169    0.547\n",
       "sigma      0.488  0.014   0.461    0.514"
      ]
     },
     "execution_count": 28,
     "metadata": {},
     "output_type": "execute_result"
    }
   ],
   "source": [
    "az.summary(trace_model_all, kind = \"stats\") "
   ]
  },
  {
   "cell_type": "code",
   "execution_count": 29,
   "metadata": {},
   "outputs": [
    {
     "data": {
      "text/html": [
       "<div>\n",
       "<style scoped>\n",
       "    .dataframe tbody tr th:only-of-type {\n",
       "        vertical-align: middle;\n",
       "    }\n",
       "\n",
       "    .dataframe tbody tr th {\n",
       "        vertical-align: top;\n",
       "    }\n",
       "\n",
       "    .dataframe thead th {\n",
       "        text-align: right;\n",
       "    }\n",
       "</style>\n",
       "<table border=\"1\" class=\"dataframe\">\n",
       "  <thead>\n",
       "    <tr style=\"text-align: right;\">\n",
       "      <th></th>\n",
       "      <th>mcse_mean</th>\n",
       "      <th>mcse_sd</th>\n",
       "      <th>ess_bulk</th>\n",
       "      <th>ess_tail</th>\n",
       "      <th>r_hat</th>\n",
       "    </tr>\n",
       "  </thead>\n",
       "  <tbody>\n",
       "    <tr>\n",
       "      <th>alpha[0]</th>\n",
       "      <td>0.000</td>\n",
       "      <td>0.000</td>\n",
       "      <td>4418.0</td>\n",
       "      <td>3197.0</td>\n",
       "      <td>1.0</td>\n",
       "    </tr>\n",
       "    <tr>\n",
       "      <th>alpha[1]</th>\n",
       "      <td>0.002</td>\n",
       "      <td>0.002</td>\n",
       "      <td>4115.0</td>\n",
       "      <td>2851.0</td>\n",
       "      <td>1.0</td>\n",
       "    </tr>\n",
       "    <tr>\n",
       "      <th>beta_r[0]</th>\n",
       "      <td>0.001</td>\n",
       "      <td>0.000</td>\n",
       "      <td>3793.0</td>\n",
       "      <td>3277.0</td>\n",
       "      <td>1.0</td>\n",
       "    </tr>\n",
       "    <tr>\n",
       "      <th>beta_r[1]</th>\n",
       "      <td>0.003</td>\n",
       "      <td>0.002</td>\n",
       "      <td>4067.0</td>\n",
       "      <td>2987.0</td>\n",
       "      <td>1.0</td>\n",
       "    </tr>\n",
       "    <tr>\n",
       "      <th>beta_t[0]</th>\n",
       "      <td>0.000</td>\n",
       "      <td>0.000</td>\n",
       "      <td>3924.0</td>\n",
       "      <td>3159.0</td>\n",
       "      <td>1.0</td>\n",
       "    </tr>\n",
       "    <tr>\n",
       "      <th>beta_t[1]</th>\n",
       "      <td>0.003</td>\n",
       "      <td>0.002</td>\n",
       "      <td>3778.0</td>\n",
       "      <td>3001.0</td>\n",
       "      <td>1.0</td>\n",
       "    </tr>\n",
       "    <tr>\n",
       "      <th>sigma</th>\n",
       "      <td>0.000</td>\n",
       "      <td>0.000</td>\n",
       "      <td>4451.0</td>\n",
       "      <td>2933.0</td>\n",
       "      <td>1.0</td>\n",
       "    </tr>\n",
       "  </tbody>\n",
       "</table>\n",
       "</div>"
      ],
      "text/plain": [
       "           mcse_mean  mcse_sd  ess_bulk  ess_tail  r_hat\n",
       "alpha[0]       0.000    0.000    4418.0    3197.0    1.0\n",
       "alpha[1]       0.002    0.002    4115.0    2851.0    1.0\n",
       "beta_r[0]      0.001    0.000    3793.0    3277.0    1.0\n",
       "beta_r[1]      0.003    0.002    4067.0    2987.0    1.0\n",
       "beta_t[0]      0.000    0.000    3924.0    3159.0    1.0\n",
       "beta_t[1]      0.003    0.002    3778.0    3001.0    1.0\n",
       "sigma          0.000    0.000    4451.0    2933.0    1.0"
      ]
     },
     "execution_count": 29,
     "metadata": {},
     "output_type": "execute_result"
    }
   ],
   "source": [
    "az.summary(trace_model_all, kind = \"diagnostics\")"
   ]
  },
  {
   "cell_type": "code",
   "execution_count": 30,
   "metadata": {},
   "outputs": [
    {
     "data": {
      "text/plain": [
       "array([<AxesSubplot:title={'center':'94.0% HDI'}>], dtype=object)"
      ]
     },
     "execution_count": 30,
     "metadata": {},
     "output_type": "execute_result"
    },
    {
     "data": {
      "image/png": "[encoded data removed]",
      "text/plain": [
       "<Figure size 432x554.4 with 1 Axes>"
      ]
     },
     "metadata": {
      "needs_background": "light"
     },
     "output_type": "display_data"
    }
   ],
   "source": [
    "az.plot_forest(trace_model_all,combined=True)"
   ]
  },
  {
   "cell_type": "markdown",
   "metadata": {},
   "source": [
    "Now compare the all four models (three from part 1 and the one above) using both PSIS and WAIC. Show all relevant statistics and diagrams to make this comparison, and discuss your results. Which model is expected make better predictions according to PSIS and WAIC? What does that tells us about the causal relations? "
   ]
  },
  {
   "cell_type": "code",
   "execution_count": 31,
   "metadata": {
    "scrolled": false
   },
   "outputs": [
    {
     "name": "stderr",
     "output_type": "stream",
     "text": [
      "/opt/anaconda3/envs/pymc3_env/lib/python3.9/site-packages/arviz/stats/stats.py:1635: UserWarning: For one or more samples the posterior variance of the log predictive densities exceeds 0.4. This could be indication of WAIC starting to fail. \n",
      "See http://arxiv.org/abs/1507.04544 for details\n",
      "  warnings.warn(\n",
      "/opt/anaconda3/envs/pymc3_env/lib/python3.9/site-packages/arviz/stats/stats.py:1635: UserWarning: For one or more samples the posterior variance of the log predictive densities exceeds 0.4. This could be indication of WAIC starting to fail. \n",
      "See http://arxiv.org/abs/1507.04544 for details\n",
      "  warnings.warn(\n",
      "/opt/anaconda3/envs/pymc3_env/lib/python3.9/site-packages/arviz/stats/stats.py:1635: UserWarning: For one or more samples the posterior variance of the log predictive densities exceeds 0.4. This could be indication of WAIC starting to fail. \n",
      "See http://arxiv.org/abs/1507.04544 for details\n",
      "  warnings.warn(\n",
      "/opt/anaconda3/envs/pymc3_env/lib/python3.9/site-packages/arviz/stats/stats.py:1635: UserWarning: For one or more samples the posterior variance of the log predictive densities exceeds 0.4. This could be indication of WAIC starting to fail. \n",
      "See http://arxiv.org/abs/1507.04544 for details\n",
      "  warnings.warn(\n"
     ]
    },
    {
     "data": {
      "text/html": [
       "<div>\n",
       "<style scoped>\n",
       "    .dataframe tbody tr th:only-of-type {\n",
       "        vertical-align: middle;\n",
       "    }\n",
       "\n",
       "    .dataframe tbody tr th {\n",
       "        vertical-align: top;\n",
       "    }\n",
       "\n",
       "    .dataframe thead th {\n",
       "        text-align: right;\n",
       "    }\n",
       "</style>\n",
       "<table border=\"1\" class=\"dataframe\">\n",
       "  <thead>\n",
       "    <tr style=\"text-align: right;\">\n",
       "      <th></th>\n",
       "      <th>rank</th>\n",
       "      <th>waic</th>\n",
       "      <th>p_waic</th>\n",
       "      <th>d_waic</th>\n",
       "      <th>weight</th>\n",
       "      <th>se</th>\n",
       "      <th>dse</th>\n",
       "      <th>warning</th>\n",
       "      <th>waic_scale</th>\n",
       "    </tr>\n",
       "  </thead>\n",
       "  <tbody>\n",
       "    <tr>\n",
       "      <th>$SP + AR + AT$</th>\n",
       "      <td>0</td>\n",
       "      <td>819.256121</td>\n",
       "      <td>18.528456</td>\n",
       "      <td>0.000000</td>\n",
       "      <td>0.962409</td>\n",
       "      <td>115.047655</td>\n",
       "      <td>0.000000</td>\n",
       "      <td>True</td>\n",
       "      <td>deviance</td>\n",
       "    </tr>\n",
       "    <tr>\n",
       "      <th>$AR + AT$</th>\n",
       "      <td>1</td>\n",
       "      <td>855.659012</td>\n",
       "      <td>14.323966</td>\n",
       "      <td>36.402891</td>\n",
       "      <td>0.000000</td>\n",
       "      <td>109.035729</td>\n",
       "      <td>15.662975</td>\n",
       "      <td>True</td>\n",
       "      <td>deviance</td>\n",
       "    </tr>\n",
       "    <tr>\n",
       "      <th>$AR$</th>\n",
       "      <td>2</td>\n",
       "      <td>1198.635433</td>\n",
       "      <td>11.244274</td>\n",
       "      <td>379.379313</td>\n",
       "      <td>0.019485</td>\n",
       "      <td>102.099253</td>\n",
       "      <td>39.917573</td>\n",
       "      <td>True</td>\n",
       "      <td>deviance</td>\n",
       "    </tr>\n",
       "    <tr>\n",
       "      <th>$SP$</th>\n",
       "      <td>3</td>\n",
       "      <td>1627.122880</td>\n",
       "      <td>5.851358</td>\n",
       "      <td>807.866760</td>\n",
       "      <td>0.018106</td>\n",
       "      <td>74.358069</td>\n",
       "      <td>67.169466</td>\n",
       "      <td>True</td>\n",
       "      <td>deviance</td>\n",
       "    </tr>\n",
       "  </tbody>\n",
       "</table>\n",
       "</div>"
      ],
      "text/plain": [
       "                rank         waic     p_waic      d_waic    weight  \\\n",
       "$SP + AR + AT$     0   819.256121  18.528456    0.000000  0.962409   \n",
       "$AR + AT$          1   855.659012  14.323966   36.402891  0.000000   \n",
       "$AR$               2  1198.635433  11.244274  379.379313  0.019485   \n",
       "$SP$               3  1627.122880   5.851358  807.866760  0.018106   \n",
       "\n",
       "                        se        dse  warning waic_scale  \n",
       "$SP + AR + AT$  115.047655   0.000000     True   deviance  \n",
       "$AR + AT$       109.035729  15.662975     True   deviance  \n",
       "$AR$            102.099253  39.917573     True   deviance  \n",
       "$SP$             74.358069  67.169466     True   deviance  "
      ]
     },
     "execution_count": 31,
     "metadata": {},
     "output_type": "execute_result"
    }
   ],
   "source": [
    "compare_coffee_waic = az.compare({'$SP$':trace_sp, '$AR$':trace_model_art, '$AR + AT$':trace_model_ard, '$SP + AR + AT$':trace_model_all},\n",
    "    scale=\"deviance\",\n",
    "    ic = \"waic\")\n",
    "compare_coffee_waic"
   ]
  },
  {
   "cell_type": "code",
   "execution_count": 32,
   "metadata": {
    "scrolled": true
   },
   "outputs": [
    {
     "data": {
      "text/plain": [
       "<AxesSubplot:xlabel='Deviance'>"
      ]
     },
     "execution_count": 32,
     "metadata": {},
     "output_type": "execute_result"
    },
    {
     "data": {
      "image/png": "[encoded data removed]",
      "text/plain": [
       "<Figure size 432x288 with 1 Axes>"
      ]
     },
     "metadata": {
      "needs_background": "light"
     },
     "output_type": "display_data"
    }
   ],
   "source": [
    "az.plot_compare(compare_coffee_waic)"
   ]
  },
  {
   "cell_type": "code",
   "execution_count": 33,
   "metadata": {
    "scrolled": false
   },
   "outputs": [
    {
     "name": "stderr",
     "output_type": "stream",
     "text": [
      "/opt/anaconda3/envs/pymc3_env/lib/python3.9/site-packages/arviz/stats/stats.py:811: UserWarning: Estimated shape parameter of Pareto distribution is greater than 0.7 for one or more samples. You should consider using a more robust model, this is because importance sampling is less likely to work well if the marginal posterior and LOO posterior are very different. This is more likely to happen with a non-robust model and highly influential observations.\n",
      "  warnings.warn(\n",
      "/opt/anaconda3/envs/pymc3_env/lib/python3.9/site-packages/arviz/stats/stats.py:811: UserWarning: Estimated shape parameter of Pareto distribution is greater than 0.7 for one or more samples. You should consider using a more robust model, this is because importance sampling is less likely to work well if the marginal posterior and LOO posterior are very different. This is more likely to happen with a non-robust model and highly influential observations.\n",
      "  warnings.warn(\n",
      "/opt/anaconda3/envs/pymc3_env/lib/python3.9/site-packages/arviz/stats/stats.py:811: UserWarning: Estimated shape parameter of Pareto distribution is greater than 0.7 for one or more samples. You should consider using a more robust model, this is because importance sampling is less likely to work well if the marginal posterior and LOO posterior are very different. This is more likely to happen with a non-robust model and highly influential observations.\n",
      "  warnings.warn(\n"
     ]
    },
    {
     "data": {
      "text/html": [
       "<div>\n",
       "<style scoped>\n",
       "    .dataframe tbody tr th:only-of-type {\n",
       "        vertical-align: middle;\n",
       "    }\n",
       "\n",
       "    .dataframe tbody tr th {\n",
       "        vertical-align: top;\n",
       "    }\n",
       "\n",
       "    .dataframe thead th {\n",
       "        text-align: right;\n",
       "    }\n",
       "</style>\n",
       "<table border=\"1\" class=\"dataframe\">\n",
       "  <thead>\n",
       "    <tr style=\"text-align: right;\">\n",
       "      <th></th>\n",
       "      <th>rank</th>\n",
       "      <th>loo</th>\n",
       "      <th>p_loo</th>\n",
       "      <th>d_loo</th>\n",
       "      <th>weight</th>\n",
       "      <th>se</th>\n",
       "      <th>dse</th>\n",
       "      <th>warning</th>\n",
       "      <th>loo_scale</th>\n",
       "    </tr>\n",
       "  </thead>\n",
       "  <tbody>\n",
       "    <tr>\n",
       "      <th>$SP + AR + AT$</th>\n",
       "      <td>0</td>\n",
       "      <td>819.151277</td>\n",
       "      <td>18.476034</td>\n",
       "      <td>0.000000</td>\n",
       "      <td>9.623155e-01</td>\n",
       "      <td>114.793725</td>\n",
       "      <td>0.000000</td>\n",
       "      <td>True</td>\n",
       "      <td>deviance</td>\n",
       "    </tr>\n",
       "    <tr>\n",
       "      <th>$AR + AT$</th>\n",
       "      <td>1</td>\n",
       "      <td>855.066995</td>\n",
       "      <td>14.027958</td>\n",
       "      <td>35.915718</td>\n",
       "      <td>7.642159e-12</td>\n",
       "      <td>108.570589</td>\n",
       "      <td>15.743397</td>\n",
       "      <td>True</td>\n",
       "      <td>deviance</td>\n",
       "    </tr>\n",
       "    <tr>\n",
       "      <th>$AR$</th>\n",
       "      <td>2</td>\n",
       "      <td>1198.292749</td>\n",
       "      <td>11.072933</td>\n",
       "      <td>379.141472</td>\n",
       "      <td>1.956882e-02</td>\n",
       "      <td>101.822692</td>\n",
       "      <td>39.928469</td>\n",
       "      <td>True</td>\n",
       "      <td>deviance</td>\n",
       "    </tr>\n",
       "    <tr>\n",
       "      <th>$SP$</th>\n",
       "      <td>3</td>\n",
       "      <td>1627.038663</td>\n",
       "      <td>5.809249</td>\n",
       "      <td>807.887385</td>\n",
       "      <td>1.811564e-02</td>\n",
       "      <td>74.312196</td>\n",
       "      <td>66.992021</td>\n",
       "      <td>False</td>\n",
       "      <td>deviance</td>\n",
       "    </tr>\n",
       "  </tbody>\n",
       "</table>\n",
       "</div>"
      ],
      "text/plain": [
       "                rank          loo      p_loo       d_loo        weight  \\\n",
       "$SP + AR + AT$     0   819.151277  18.476034    0.000000  9.623155e-01   \n",
       "$AR + AT$          1   855.066995  14.027958   35.915718  7.642159e-12   \n",
       "$AR$               2  1198.292749  11.072933  379.141472  1.956882e-02   \n",
       "$SP$               3  1627.038663   5.809249  807.887385  1.811564e-02   \n",
       "\n",
       "                        se        dse  warning loo_scale  \n",
       "$SP + AR + AT$  114.793725   0.000000     True  deviance  \n",
       "$AR + AT$       108.570589  15.743397     True  deviance  \n",
       "$AR$            101.822692  39.928469     True  deviance  \n",
       "$SP$             74.312196  66.992021    False  deviance  "
      ]
     },
     "execution_count": 33,
     "metadata": {},
     "output_type": "execute_result"
    }
   ],
   "source": [
    "compare_coffee_psis = az.compare({'$SP$':trace_sp, '$AR$':trace_model_art, '$AR + AT$':trace_model_ard, '$SP + AR + AT$':trace_model_all},\n",
    "    scale=\"deviance\",\n",
    "    ic = \"loo\")\n",
    "compare_coffee_psis"
   ]
  },
  {
   "cell_type": "code",
   "execution_count": 34,
   "metadata": {
    "scrolled": true
   },
   "outputs": [
    {
     "data": {
      "text/plain": [
       "<AxesSubplot:xlabel='Deviance'>"
      ]
     },
     "execution_count": 34,
     "metadata": {},
     "output_type": "execute_result"
    },
    {
     "data": {
      "image/png": "[encoded data removed]",
      "text/plain": [
       "<Figure size 432x288 with 1 Axes>"
      ]
     },
     "metadata": {
      "needs_background": "light"
     },
     "output_type": "display_data"
    }
   ],
   "source": [
    "az.plot_compare(compare_coffee_psis)"
   ]
  },
  {
   "cell_type": "markdown",
   "metadata": {},
   "source": [
    "**When we compare these four models, both PSIS and WAIC show that best causal model is where we stratify for all variables (AR, AT and SP) **"
   ]
  },
  {
   "cell_type": "markdown",
   "metadata": {},
   "source": [
    "Do a robust regression on the best performing model, and compare them to each other using PSIS and WAIC. (15 pts)"
   ]
  },
  {
   "cell_type": "code",
   "execution_count": 35,
   "metadata": {},
   "outputs": [
    {
     "name": "stderr",
     "output_type": "stream",
     "text": [
      "/opt/anaconda3/envs/pymc3_env/lib/python3.9/site-packages/arviz/stats/stats.py:811: UserWarning: Estimated shape parameter of Pareto distribution is greater than 0.7 for one or more samples. You should consider using a more robust model, this is because importance sampling is less likely to work well if the marginal posterior and LOO posterior are very different. This is more likely to happen with a non-robust model and highly influential observations.\n",
      "  warnings.warn(\n",
      "/opt/anaconda3/envs/pymc3_env/lib/python3.9/site-packages/arviz/stats/stats.py:1635: UserWarning: For one or more samples the posterior variance of the log predictive densities exceeds 0.4. This could be indication of WAIC starting to fail. \n",
      "See http://arxiv.org/abs/1507.04544 for details\n",
      "  warnings.warn(\n"
     ]
    },
    {
     "data": {
      "image/png": "[encoded data removed]",
      "text/plain": [
       "<Figure size 432x288 with 1 Axes>"
      ]
     },
     "metadata": {
      "needs_background": "light"
     },
     "output_type": "display_data"
    }
   ],
   "source": [
    "psis_m_all = az.loo(trace_model_all, pointwise=True, scale=\"deviance\")\n",
    "waic_m_all = az.waic(trace_model_all, pointwise=True, scale=\"deviance\")\n",
    "\n",
    "\n",
    "plt.scatter(psis_m_all.pareto_k, waic_m_all.waic_i)\n",
    "plt.xlabel(\"PSIS Pareto k\")\n",
    "plt.ylabel(\"WAIC\");"
   ]
  },
  {
   "cell_type": "code",
   "execution_count": 36,
   "metadata": {},
   "outputs": [
    {
     "name": "stderr",
     "output_type": "stream",
     "text": [
      "Auto-assigning NUTS sampler...\n",
      "Initializing NUTS using jitter+adapt_diag...\n",
      "Multiprocess sampling (4 chains in 4 jobs)\n",
      "NUTS: [sigma, beta_t, beta_r, alpha]\n",
      "WARNING (theano.link.c.cmodule): install mkl with `conda install mkl-service`: No module named 'mkl'\n",
      "WARNING (theano.link.c.cmodule): install mkl with `conda install mkl-service`: No module named 'mkl'\n",
      "WARNING (theano.link.c.cmodule): install mkl with `conda install mkl-service`: No module named 'mkl'\n",
      "WARNING (theano.link.c.cmodule): install mkl with `conda install mkl-service`: No module named 'mkl'\n"
     ]
    },
    {
     "data": {
      "text/html": [
       "\n",
       "<style>\n",
       "    /* Turns off some styling */\n",
       "    progress {\n",
       "        /* gets rid of default border in Firefox and Opera. */\n",
       "        border: none;\n",
       "        /* Needs to be in here for Safari polyfill so background images work as expected. */\n",
       "        background-size: auto;\n",
       "    }\n",
       "    .progress-bar-interrupted, .progress-bar-interrupted::-webkit-progress-bar {\n",
       "        background: #F44336;\n",
       "    }\n",
       "</style>\n"
      ],
      "text/plain": [
       "<IPython.core.display.HTML object>"
      ]
     },
     "metadata": {},
     "output_type": "display_data"
    },
    {
     "data": {
      "text/html": [
       "\n",
       "    <div>\n",
       "      <progress value='8000' class='' max='8000' style='width:300px; height:20px; vertical-align: middle;'></progress>\n",
       "      100.00% [8000/8000 00:04<00:00 Sampling 4 chains, 0 divergences]\n",
       "    </div>\n",
       "    "
      ],
      "text/plain": [
       "<IPython.core.display.HTML object>"
      ]
     },
     "metadata": {},
     "output_type": "display_data"
    },
    {
     "name": "stderr",
     "output_type": "stream",
     "text": [
      "Sampling 4 chains for 1_000 tune and 1_000 draw iterations (4_000 + 4_000 draws total) took 15 seconds.\n"
     ]
    }
   ],
   "source": [
    "#Robust regression\n",
    "with pm.Model() as model_all_t:\n",
    "    alpha = pm.Normal('alpha', mu = 0, sigma = 0.2,shape = 2)\n",
    "    beta_r = pm.Normal('beta_r', mu = 0, sigma = 0.5,shape = 2)\n",
    "    beta_t = pm.Normal('beta_t', mu = 0, sigma = 0.5,shape = 2)\n",
    "    sigma = pm.Exponential('sigma',1)\n",
    "    mu = alpha[dsimp.sp] + beta_r[dsimp.sp] * dsimp.ar + beta_t[dsimp.sp] * dsimp[\"at\"]\n",
    "\n",
    "    cp = pm.StudentT('cp', nu=2, mu = mu,  sigma = sigma, observed = dsimp.cp)\n",
    "    trace_model_all_t = pm.sample(1000, tune = 1000, return_inferencedata=True)"
   ]
  },
  {
   "cell_type": "code",
   "execution_count": 37,
   "metadata": {},
   "outputs": [
    {
     "name": "stderr",
     "output_type": "stream",
     "text": [
      "/opt/anaconda3/envs/pymc3_env/lib/python3.9/site-packages/arviz/stats/stats.py:811: UserWarning: Estimated shape parameter of Pareto distribution is greater than 0.7 for one or more samples. You should consider using a more robust model, this is because importance sampling is less likely to work well if the marginal posterior and LOO posterior are very different. This is more likely to happen with a non-robust model and highly influential observations.\n",
      "  warnings.warn(\n"
     ]
    },
    {
     "data": {
      "text/html": [
       "<div>\n",
       "<style scoped>\n",
       "    .dataframe tbody tr th:only-of-type {\n",
       "        vertical-align: middle;\n",
       "    }\n",
       "\n",
       "    .dataframe tbody tr th {\n",
       "        vertical-align: top;\n",
       "    }\n",
       "\n",
       "    .dataframe thead th {\n",
       "        text-align: right;\n",
       "    }\n",
       "</style>\n",
       "<table border=\"1\" class=\"dataframe\">\n",
       "  <thead>\n",
       "    <tr style=\"text-align: right;\">\n",
       "      <th></th>\n",
       "      <th>rank</th>\n",
       "      <th>loo</th>\n",
       "      <th>p_loo</th>\n",
       "      <th>d_loo</th>\n",
       "      <th>weight</th>\n",
       "      <th>se</th>\n",
       "      <th>dse</th>\n",
       "      <th>warning</th>\n",
       "      <th>loo_scale</th>\n",
       "    </tr>\n",
       "  </thead>\n",
       "  <tbody>\n",
       "    <tr>\n",
       "      <th>$Student T$</th>\n",
       "      <td>0</td>\n",
       "      <td>404.517021</td>\n",
       "      <td>6.715558</td>\n",
       "      <td>0.000000</td>\n",
       "      <td>0.933028</td>\n",
       "      <td>62.232835</td>\n",
       "      <td>0.000000</td>\n",
       "      <td>False</td>\n",
       "      <td>deviance</td>\n",
       "    </tr>\n",
       "    <tr>\n",
       "      <th>$Normal$</th>\n",
       "      <td>1</td>\n",
       "      <td>819.151277</td>\n",
       "      <td>18.476034</td>\n",
       "      <td>414.634256</td>\n",
       "      <td>0.066972</td>\n",
       "      <td>114.793725</td>\n",
       "      <td>88.780239</td>\n",
       "      <td>True</td>\n",
       "      <td>deviance</td>\n",
       "    </tr>\n",
       "  </tbody>\n",
       "</table>\n",
       "</div>"
      ],
      "text/plain": [
       "             rank         loo      p_loo       d_loo    weight          se  \\\n",
       "$Student T$     0  404.517021   6.715558    0.000000  0.933028   62.232835   \n",
       "$Normal$        1  819.151277  18.476034  414.634256  0.066972  114.793725   \n",
       "\n",
       "                   dse  warning loo_scale  \n",
       "$Student T$   0.000000    False  deviance  \n",
       "$Normal$     88.780239     True  deviance  "
      ]
     },
     "execution_count": 37,
     "metadata": {},
     "output_type": "execute_result"
    }
   ],
   "source": [
    "compare_coffee_all_psis = az.compare({'$Normal$':trace_model_all, '$Student T$':trace_model_all_t},\n",
    "    scale=\"deviance\",\n",
    "    ic = \"loo\")\n",
    "compare_coffee_all_psis"
   ]
  },
  {
   "cell_type": "code",
   "execution_count": 38,
   "metadata": {
    "scrolled": true
   },
   "outputs": [
    {
     "name": "stderr",
     "output_type": "stream",
     "text": [
      "/opt/anaconda3/envs/pymc3_env/lib/python3.9/site-packages/arviz/stats/stats.py:1635: UserWarning: For one or more samples the posterior variance of the log predictive densities exceeds 0.4. This could be indication of WAIC starting to fail. \n",
      "See http://arxiv.org/abs/1507.04544 for details\n",
      "  warnings.warn(\n"
     ]
    },
    {
     "data": {
      "text/html": [
       "<div>\n",
       "<style scoped>\n",
       "    .dataframe tbody tr th:only-of-type {\n",
       "        vertical-align: middle;\n",
       "    }\n",
       "\n",
       "    .dataframe tbody tr th {\n",
       "        vertical-align: top;\n",
       "    }\n",
       "\n",
       "    .dataframe thead th {\n",
       "        text-align: right;\n",
       "    }\n",
       "</style>\n",
       "<table border=\"1\" class=\"dataframe\">\n",
       "  <thead>\n",
       "    <tr style=\"text-align: right;\">\n",
       "      <th></th>\n",
       "      <th>rank</th>\n",
       "      <th>waic</th>\n",
       "      <th>p_waic</th>\n",
       "      <th>d_waic</th>\n",
       "      <th>weight</th>\n",
       "      <th>se</th>\n",
       "      <th>dse</th>\n",
       "      <th>warning</th>\n",
       "      <th>waic_scale</th>\n",
       "    </tr>\n",
       "  </thead>\n",
       "  <tbody>\n",
       "    <tr>\n",
       "      <th>$Student T$</th>\n",
       "      <td>0</td>\n",
       "      <td>404.392903</td>\n",
       "      <td>6.653499</td>\n",
       "      <td>0.000000</td>\n",
       "      <td>0.932934</td>\n",
       "      <td>62.233433</td>\n",
       "      <td>0.000000</td>\n",
       "      <td>False</td>\n",
       "      <td>deviance</td>\n",
       "    </tr>\n",
       "    <tr>\n",
       "      <th>$Normal$</th>\n",
       "      <td>1</td>\n",
       "      <td>819.256121</td>\n",
       "      <td>18.528456</td>\n",
       "      <td>414.863217</td>\n",
       "      <td>0.067066</td>\n",
       "      <td>115.047655</td>\n",
       "      <td>89.068003</td>\n",
       "      <td>True</td>\n",
       "      <td>deviance</td>\n",
       "    </tr>\n",
       "  </tbody>\n",
       "</table>\n",
       "</div>"
      ],
      "text/plain": [
       "             rank        waic     p_waic      d_waic    weight          se  \\\n",
       "$Student T$     0  404.392903   6.653499    0.000000  0.932934   62.233433   \n",
       "$Normal$        1  819.256121  18.528456  414.863217  0.067066  115.047655   \n",
       "\n",
       "                   dse  warning waic_scale  \n",
       "$Student T$   0.000000    False   deviance  \n",
       "$Normal$     89.068003     True   deviance  "
      ]
     },
     "execution_count": 38,
     "metadata": {},
     "output_type": "execute_result"
    }
   ],
   "source": [
    "compare_coffee_all_waic = az.compare({'$Normal$':trace_model_all, '$Student T$':trace_model_all_t},\n",
    "    scale=\"deviance\",\n",
    "    ic = \"waic\")\n",
    "compare_coffee_all_waic"
   ]
  },
  {
   "cell_type": "code",
   "execution_count": null,
   "metadata": {},
   "outputs": [],
   "source": [
    "#As seen above in both Psis and Waic Robust regression(StudentT) is better than the Normal one. \n",
    "#Normal means here is the model where we have all AT,AR and SP."
   ]
  },
  {
   "cell_type": "markdown",
   "metadata": {},
   "source": [
    "## Part 3 - Expanded DAG \n",
    "\n",
    "Consider all the variables in [the coffee ratings dataset](https://github.com/rfordatascience/tidytuesday/tree/master/data/2020/2020-07-07) and build a larger/more comprehensive DAG than the one above. You can draw this DAG below. "
   ]
  },
  {
   "cell_type": "code",
   "execution_count": 39,
   "metadata": {},
   "outputs": [
    {
     "data": {
      "text/plain": [
       "<Axes:>"
      ]
     },
     "execution_count": 39,
     "metadata": {},
     "output_type": "execute_result"
    },
    {
     "data": {
      "image/png": "[encoded data removed]",
      "text/plain": [
       "<Figure size 209.764x209.764 with 1 Axes>"
      ]
     },
     "metadata": {},
     "output_type": "display_data"
    }
   ],
   "source": [
    "pgm = daft.PGM()\n",
    "pgm.add_node(\"OR\",\"OR\",2,4)\n",
    "pgm.add_node(\"AR\",\"AR\",2,3)\n",
    "pgm.add_node(\"AT\",\"AT\",3,2)\n",
    "pgm.add_node(\"CP\",\"CP\",3,1)\n",
    "pgm.add_node(\"SP\",\"SP\",1,3)\n",
    "pgm.add_node(\"ALM\",\"ALM\",3,4)\n",
    "pgm.add_node(\"MG\",\"MG\",3,3)\n",
    "pgm.add_node(\"AC\",\"AC\",4,3)\n",
    "\n",
    "pgm.add_edge(\"SP\", \"AR\")\n",
    "pgm.add_edge(\"AR\", \"AT\")\n",
    "pgm.add_edge(\"AT\", \"CP\")\n",
    "pgm.add_edge(\"AR\", \"CP\")\n",
    "pgm.add_edge(\"OR\", \"AR\")\n",
    "pgm.add_edge(\"ALM\", \"MG\")\n",
    "pgm.add_edge(\"ALM\", \"AR\")\n",
    "pgm.add_edge(\"ALM\", \"AC\")\n",
    "pgm.add_edge(\"AC\", \"AT\")\n",
    "pgm.add_edge(\"MG\", \"AT\")\n",
    "pgm.add_edge(\"AC\", \"CP\")\n",
    "pgm.add_edge(\"MG\", \"AR\")\n",
    "pgm.add_edge(\"OR\", \"ALM\")\n",
    "\n",
    "pgm.render()"
   ]
  },
  {
   "cell_type": "markdown",
   "metadata": {},
   "source": [
    "Describe this DAG (what kind of causal assumptions you made) in this DAG.\n",
    "\n",
    "---\n",
    "\n",
    "**In the DAG, R represents Region, SP represents Species, AR represents Aroma, ALM represents Altitude Mean Meters, MG represents Moisture Grade, AC represents Aciditiy Grade, AT represents Aftertaste Grade, CP represents Total Cup Points. Region and Species affect Aroma Grade. Altitude Mean affects Aroma Grade,Acidity Grade and Moisture Grade. Moisture Grade affects Aroma Grade and Aftertaste Grade. Aroma Grade affects Aftertaste Grade and Total Cup Points. Acidity Grade affects Aftertaste Grade and Total Cup Points. Aftertaste Grade affects Total Cup Points. Country of origin affects Altitude Mean **\n",
    "\n",
    "---"
   ]
  },
  {
   "cell_type": "markdown",
   "metadata": {},
   "source": [
    "## Bonus\n",
    "\n",
    "Build a **full Bayes** model on this DAG (in which you model all the relations and present the posteriors of this model).\n"
   ]
  },
  {
   "cell_type": "code",
   "execution_count": 40,
   "metadata": {},
   "outputs": [
    {
     "data": {
      "text/html": [
       "<div>\n",
       "<style scoped>\n",
       "    .dataframe tbody tr th:only-of-type {\n",
       "        vertical-align: middle;\n",
       "    }\n",
       "\n",
       "    .dataframe tbody tr th {\n",
       "        vertical-align: top;\n",
       "    }\n",
       "\n",
       "    .dataframe thead th {\n",
       "        text-align: right;\n",
       "    }\n",
       "</style>\n",
       "<table border=\"1\" class=\"dataframe\">\n",
       "  <thead>\n",
       "    <tr style=\"text-align: right;\">\n",
       "      <th></th>\n",
       "      <th>farm_name</th>\n",
       "      <th>total_cup_points</th>\n",
       "      <th>aroma</th>\n",
       "      <th>aftertaste</th>\n",
       "      <th>species</th>\n",
       "      <th>country_of_origin</th>\n",
       "      <th>acidity</th>\n",
       "      <th>moisture</th>\n",
       "      <th>altitude_mean_meters</th>\n",
       "    </tr>\n",
       "  </thead>\n",
       "  <tbody>\n",
       "    <tr>\n",
       "      <th>255</th>\n",
       "      <td>-</td>\n",
       "      <td>84.00</td>\n",
       "      <td>7.67</td>\n",
       "      <td>7.67</td>\n",
       "      <td>Arabica</td>\n",
       "      <td>Kenya</td>\n",
       "      <td>7.75</td>\n",
       "      <td>0.00</td>\n",
       "      <td>1650.0</td>\n",
       "    </tr>\n",
       "    <tr>\n",
       "      <th>1269</th>\n",
       "      <td>1</td>\n",
       "      <td>76.17</td>\n",
       "      <td>7.33</td>\n",
       "      <td>6.50</td>\n",
       "      <td>Arabica</td>\n",
       "      <td>Indonesia</td>\n",
       "      <td>6.08</td>\n",
       "      <td>0.12</td>\n",
       "      <td>3500.0</td>\n",
       "    </tr>\n",
       "    <tr>\n",
       "      <th>1307</th>\n",
       "      <td>200 farms</td>\n",
       "      <td>67.92</td>\n",
       "      <td>6.75</td>\n",
       "      <td>6.42</td>\n",
       "      <td>Arabica</td>\n",
       "      <td>Haiti</td>\n",
       "      <td>6.67</td>\n",
       "      <td>0.14</td>\n",
       "      <td>350.0</td>\n",
       "    </tr>\n",
       "    <tr>\n",
       "      <th>1297</th>\n",
       "      <td>2000 farmers</td>\n",
       "      <td>72.33</td>\n",
       "      <td>6.92</td>\n",
       "      <td>7.08</td>\n",
       "      <td>Arabica</td>\n",
       "      <td>Haiti</td>\n",
       "      <td>7.17</td>\n",
       "      <td>0.08</td>\n",
       "      <td>1020.0</td>\n",
       "    </tr>\n",
       "    <tr>\n",
       "      <th>1047</th>\n",
       "      <td>2000 farms</td>\n",
       "      <td>80.75</td>\n",
       "      <td>7.42</td>\n",
       "      <td>7.42</td>\n",
       "      <td>Arabica</td>\n",
       "      <td>Haiti</td>\n",
       "      <td>7.25</td>\n",
       "      <td>0.12</td>\n",
       "      <td>1000.0</td>\n",
       "    </tr>\n",
       "  </tbody>\n",
       "</table>\n",
       "</div>"
      ],
      "text/plain": [
       "         farm_name  total_cup_points  aroma  aftertaste  species  \\\n",
       "255              -             84.00   7.67        7.67  Arabica   \n",
       "1269             1             76.17   7.33        6.50  Arabica   \n",
       "1307     200 farms             67.92   6.75        6.42  Arabica   \n",
       "1297  2000 farmers             72.33   6.92        7.08  Arabica   \n",
       "1047    2000 farms             80.75   7.42        7.42  Arabica   \n",
       "\n",
       "     country_of_origin  acidity  moisture  altitude_mean_meters  \n",
       "255              Kenya     7.75      0.00                1650.0  \n",
       "1269         Indonesia     6.08      0.12                3500.0  \n",
       "1307             Haiti     6.67      0.14                 350.0  \n",
       "1297             Haiti     7.17      0.08                1020.0  \n",
       "1047             Haiti     7.25      0.12                1000.0  "
      ]
     },
     "execution_count": 40,
     "metadata": {},
     "output_type": "execute_result"
    }
   ],
   "source": [
    "dfull = d[[\"farm_name\", \"total_cup_points\", \"aroma\", \"aftertaste\", \"species\",\"country_of_origin\", \"acidity\", \"moisture\", \"altitude_mean_meters\"]].groupby(by='farm_name').sample(n = 1)\n",
    "dfull.head()"
   ]
  },
  {
   "cell_type": "code",
   "execution_count": 41,
   "metadata": {},
   "outputs": [
    {
     "data": {
      "text/plain": [
       "<pandas.core.indexing._AtIndexer at 0x16d8f25e0>"
      ]
     },
     "execution_count": 41,
     "metadata": {},
     "output_type": "execute_result"
    }
   ],
   "source": [
    "#First,standardize the data\n",
    "dfull[\"ar\"]=(dfull.aroma-dfull.aroma.mean()) / dfull.aroma.std()\n",
    "dfull[\"at\"]=(dfull.aftertaste - dfull.aftertaste.mean()) / dfull.aftertaste.std()\n",
    "dfull[\"cp\"]=(dfull.total_cup_points-dfull.total_cup_points.mean())/dfull.total_cup_points.std()\n",
    "dfull[\"mg\"]=(dfull.moisture - dfull.moisture.mean()) / dfull.moisture.std()\n",
    "dfull[\"ac\"]=(dfull.acidity - dfull.acidity.mean()) / dfull.acidity.std()\n",
    "dfull[\"alm\"]=(dfull.altitude_mean_meters - dfull.altitude_mean_meters.mean()) / dfull.altitude_mean_meters.std()\n",
    "#Create a column sp and or for changing species and country of origin into dummy variables\n",
    "dfull[\"sp\"]=dfull['species']\n",
    "dfull['sp'] = pd.factorize(dfull['sp'])[0]\n",
    "dfull[\"or\"]=dfull['country_of_origin']\n",
    "dfull[\"or\"] = pd.factorize(dfull['country_of_origin'])[0]\n",
    "\n",
    "dfull.at"
   ]
  },
  {
   "cell_type": "code",
   "execution_count": 42,
   "metadata": {},
   "outputs": [
    {
     "name": "stderr",
     "output_type": "stream",
     "text": [
      "/opt/anaconda3/envs/pymc3_env/lib/python3.9/site-packages/pymc3/model.py:1755: ImputationWarning: Data in altitude_mean contains missing values and will be automatically imputed from the sampling distribution.\n",
      "  warnings.warn(impute_message, ImputationWarning)\n"
     ]
    },
    {
     "ename": "SamplingError",
     "evalue": "Initial evaluation of model at starting point failed!\nStarting values:\n{'alpha_ar': array([[0., 0., 0., 0., 0., 0., 0., 0., 0., 0., 0., 0., 0., 0., 0., 0.,\n        0., 0., 0., 0., 0., 0., 0., 0., 0., 0., 0., 0., 0., 0., 0., 0.,\n        0., 0., 0., 0.],\n       [0., 0., 0., 0., 0., 0., 0., 0., 0., 0., 0., 0., 0., 0., 0., 0.,\n        0., 0., 0., 0., 0., 0., 0., 0., 0., 0., 0., 0., 0., 0., 0., 0.,\n        0., 0., 0., 0.]]), 'beta_ar1': array([[0., 0., 0., 0., 0., 0., 0., 0., 0., 0., 0., 0., 0., 0., 0., 0.,\n        0., 0., 0., 0., 0., 0., 0., 0., 0., 0., 0., 0., 0., 0., 0., 0.,\n        0., 0., 0., 0.],\n       [0., 0., 0., 0., 0., 0., 0., 0., 0., 0., 0., 0., 0., 0., 0., 0.,\n        0., 0., 0., 0., 0., 0., 0., 0., 0., 0., 0., 0., 0., 0., 0., 0.,\n        0., 0., 0., 0.]]), 'beta_ar2': array([[0., 0., 0., 0., 0., 0., 0., 0., 0., 0., 0., 0., 0., 0., 0., 0.,\n        0., 0., 0., 0., 0., 0., 0., 0., 0., 0., 0., 0., 0., 0., 0., 0.,\n        0., 0., 0., 0.],\n       [0., 0., 0., 0., 0., 0., 0., 0., 0., 0., 0., 0., 0., 0., 0., 0.,\n        0., 0., 0., 0., 0., 0., 0., 0., 0., 0., 0., 0., 0., 0., 0., 0.,\n        0., 0., 0., 0.]]), 'sigma_ar_interval__': array(0.), 'alpha_alm': array([0., 0., 0., 0., 0., 0., 0., 0., 0., 0., 0., 0., 0., 0., 0., 0., 0.,\n       0., 0., 0., 0., 0., 0., 0., 0., 0., 0., 0., 0., 0., 0., 0., 0., 0.,\n       0., 0.]), 'sigma_alm_interval__': array(0.), 'altitude_mean_missing': array([0., 0., 0., 0., 0., 0., 0., 0., 0., 0., 0., 0., 0., 0., 0., 0., 0.,\n       0., 0., 0., 0., 0., 0., 0., 0., 0., 0., 0., 0., 0., 0., 0., 0., 0.,\n       0.]), 'beta_mg': array(0.), 'sigma_mg_interval__': array(0.), 'beta_ac': array(0.), 'sigma_ac_interval__': array(0.), 'beta_at1': array(0.), 'beta_at2': array(0.), 'beta_at3': array(0.), 'sigma_at_interval__': array(0.), 'beta_cp1': array(0.), 'beta_cp2': array(0.), 'beta_cp3': array(0.), 'sigma_cp_interval__': array(0.)}\n\nInitial evaluation results:\nalpha_ar                   49.72\nbeta_ar1                  -16.26\nbeta_ar2                  -16.26\nsigma_ar_interval__        -1.39\nalpha_alm                  24.86\nsigma_alm_interval__       -1.39\naltitude_mean_missing       0.00\nbeta_mg                    -0.23\nsigma_mg_interval__        -1.39\nbeta_ac                    -0.23\nsigma_ac_interval__        -1.39\nbeta_at1                   -0.23\nbeta_at2                   -0.23\nbeta_at3                   -0.23\nsigma_at_interval__        -1.39\nbeta_cp1                   -0.23\nbeta_cp2                   -0.23\nbeta_cp3                   -0.23\nsigma_cp_interval__        -1.39\naroma1                       NaN\naltitude_mean           -1198.93\nmoisture_1                   NaN\nacidity_1                    NaN\naftertaste_1            -1268.93\ntotalpo_1               -1268.93\nName: Log-probability of test_point, dtype: float64",
     "output_type": "error",
     "traceback": [
      "\u001b[0;31m---------------------------------------------------------------------------\u001b[0m",
      "\u001b[0;31mSamplingError\u001b[0m                             Traceback (most recent call last)",
      "Input \u001b[0;32mIn [42]\u001b[0m, in \u001b[0;36m<cell line: 1>\u001b[0;34m()\u001b[0m\n\u001b[1;32m     42\u001b[0m mu_cp \u001b[38;5;241m=\u001b[39m beta_cp1\u001b[38;5;241m*\u001b[39mdfull[\u001b[38;5;124m\"\u001b[39m\u001b[38;5;124mar\u001b[39m\u001b[38;5;124m\"\u001b[39m] \u001b[38;5;241m+\u001b[39m beta_cp2\u001b[38;5;241m*\u001b[39mdfull[\u001b[38;5;124m\"\u001b[39m\u001b[38;5;124mat\u001b[39m\u001b[38;5;124m\"\u001b[39m] \u001b[38;5;241m+\u001b[39m beta_cp3\u001b[38;5;241m*\u001b[39mdfull[\u001b[38;5;124m\"\u001b[39m\u001b[38;5;124mac\u001b[39m\u001b[38;5;124m\"\u001b[39m]\n\u001b[1;32m     43\u001b[0m totalpo_1 \u001b[38;5;241m=\u001b[39m pm\u001b[38;5;241m.\u001b[39mNormal(\u001b[38;5;124m'\u001b[39m\u001b[38;5;124mtotalpo_1\u001b[39m\u001b[38;5;124m'\u001b[39m, mu\u001b[38;5;241m=\u001b[39m mu_cp, sigma\u001b[38;5;241m=\u001b[39msigma_cp, observed \u001b[38;5;241m=\u001b[39m dfull\u001b[38;5;241m.\u001b[39mcp)\n\u001b[0;32m---> 47\u001b[0m trace_model_full \u001b[38;5;241m=\u001b[39m \u001b[43mpm\u001b[49m\u001b[38;5;241;43m.\u001b[39;49m\u001b[43msample\u001b[49m\u001b[43m(\u001b[49m\u001b[38;5;241;43m1000\u001b[39;49m\u001b[43m,\u001b[49m\u001b[43m \u001b[49m\u001b[43mtune\u001b[49m\u001b[43m \u001b[49m\u001b[38;5;241;43m=\u001b[39;49m\u001b[43m \u001b[49m\u001b[38;5;241;43m1000\u001b[39;49m\u001b[43m,\u001b[49m\u001b[43m \u001b[49m\u001b[43mreturn_inferencedata\u001b[49m\u001b[38;5;241;43m=\u001b[39;49m\u001b[38;5;28;43;01mTrue\u001b[39;49;00m\u001b[43m)\u001b[49m\n",
      "File \u001b[0;32m/opt/anaconda3/envs/pymc3_env/lib/python3.9/site-packages/pymc3/sampling.py:428\u001b[0m, in \u001b[0;36msample\u001b[0;34m(draws, step, init, n_init, start, trace, chain_idx, chains, cores, tune, progressbar, model, random_seed, discard_tuned_samples, compute_convergence_checks, callback, jitter_max_retries, return_inferencedata, idata_kwargs, mp_ctx, pickle_backend, **kwargs)\u001b[0m\n\u001b[1;32m    426\u001b[0m start \u001b[38;5;241m=\u001b[39m deepcopy(start)\n\u001b[1;32m    427\u001b[0m \u001b[38;5;28;01mif\u001b[39;00m start \u001b[38;5;129;01mis\u001b[39;00m \u001b[38;5;28;01mNone\u001b[39;00m:\n\u001b[0;32m--> 428\u001b[0m     \u001b[43mcheck_start_vals\u001b[49m\u001b[43m(\u001b[49m\u001b[43mmodel\u001b[49m\u001b[38;5;241;43m.\u001b[39;49m\u001b[43mtest_point\u001b[49m\u001b[43m,\u001b[49m\u001b[43m \u001b[49m\u001b[43mmodel\u001b[49m\u001b[43m)\u001b[49m\n\u001b[1;32m    429\u001b[0m \u001b[38;5;28;01melse\u001b[39;00m:\n\u001b[1;32m    430\u001b[0m     \u001b[38;5;28;01mif\u001b[39;00m \u001b[38;5;28misinstance\u001b[39m(start, \u001b[38;5;28mdict\u001b[39m):\n",
      "File \u001b[0;32m/opt/anaconda3/envs/pymc3_env/lib/python3.9/site-packages/pymc3/util.py:237\u001b[0m, in \u001b[0;36mcheck_start_vals\u001b[0;34m(start, model)\u001b[0m\n\u001b[1;32m    234\u001b[0m initial_eval \u001b[38;5;241m=\u001b[39m model\u001b[38;5;241m.\u001b[39mcheck_test_point(test_point\u001b[38;5;241m=\u001b[39melem)\n\u001b[1;32m    236\u001b[0m \u001b[38;5;28;01mif\u001b[39;00m \u001b[38;5;129;01mnot\u001b[39;00m np\u001b[38;5;241m.\u001b[39mall(np\u001b[38;5;241m.\u001b[39misfinite(initial_eval)):\n\u001b[0;32m--> 237\u001b[0m     \u001b[38;5;28;01mraise\u001b[39;00m SamplingError(\n\u001b[1;32m    238\u001b[0m         \u001b[38;5;124m\"\u001b[39m\u001b[38;5;124mInitial evaluation of model at starting point failed!\u001b[39m\u001b[38;5;130;01m\\n\u001b[39;00m\u001b[38;5;124m\"\u001b[39m\n\u001b[1;32m    239\u001b[0m         \u001b[38;5;124m\"\u001b[39m\u001b[38;5;124mStarting values:\u001b[39m\u001b[38;5;130;01m\\n\u001b[39;00m\u001b[38;5;132;01m{}\u001b[39;00m\u001b[38;5;130;01m\\n\u001b[39;00m\u001b[38;5;130;01m\\n\u001b[39;00m\u001b[38;5;124m\"\u001b[39m\n\u001b[1;32m    240\u001b[0m         \u001b[38;5;124m\"\u001b[39m\u001b[38;5;124mInitial evaluation results:\u001b[39m\u001b[38;5;130;01m\\n\u001b[39;00m\u001b[38;5;132;01m{}\u001b[39;00m\u001b[38;5;124m\"\u001b[39m\u001b[38;5;241m.\u001b[39mformat(elem, \u001b[38;5;28mstr\u001b[39m(initial_eval))\n\u001b[1;32m    241\u001b[0m     )\n",
      "\u001b[0;31mSamplingError\u001b[0m: Initial evaluation of model at starting point failed!\nStarting values:\n{'alpha_ar': array([[0., 0., 0., 0., 0., 0., 0., 0., 0., 0., 0., 0., 0., 0., 0., 0.,\n        0., 0., 0., 0., 0., 0., 0., 0., 0., 0., 0., 0., 0., 0., 0., 0.,\n        0., 0., 0., 0.],\n       [0., 0., 0., 0., 0., 0., 0., 0., 0., 0., 0., 0., 0., 0., 0., 0.,\n        0., 0., 0., 0., 0., 0., 0., 0., 0., 0., 0., 0., 0., 0., 0., 0.,\n        0., 0., 0., 0.]]), 'beta_ar1': array([[0., 0., 0., 0., 0., 0., 0., 0., 0., 0., 0., 0., 0., 0., 0., 0.,\n        0., 0., 0., 0., 0., 0., 0., 0., 0., 0., 0., 0., 0., 0., 0., 0.,\n        0., 0., 0., 0.],\n       [0., 0., 0., 0., 0., 0., 0., 0., 0., 0., 0., 0., 0., 0., 0., 0.,\n        0., 0., 0., 0., 0., 0., 0., 0., 0., 0., 0., 0., 0., 0., 0., 0.,\n        0., 0., 0., 0.]]), 'beta_ar2': array([[0., 0., 0., 0., 0., 0., 0., 0., 0., 0., 0., 0., 0., 0., 0., 0.,\n        0., 0., 0., 0., 0., 0., 0., 0., 0., 0., 0., 0., 0., 0., 0., 0.,\n        0., 0., 0., 0.],\n       [0., 0., 0., 0., 0., 0., 0., 0., 0., 0., 0., 0., 0., 0., 0., 0.,\n        0., 0., 0., 0., 0., 0., 0., 0., 0., 0., 0., 0., 0., 0., 0., 0.,\n        0., 0., 0., 0.]]), 'sigma_ar_interval__': array(0.), 'alpha_alm': array([0., 0., 0., 0., 0., 0., 0., 0., 0., 0., 0., 0., 0., 0., 0., 0., 0.,\n       0., 0., 0., 0., 0., 0., 0., 0., 0., 0., 0., 0., 0., 0., 0., 0., 0.,\n       0., 0.]), 'sigma_alm_interval__': array(0.), 'altitude_mean_missing': array([0., 0., 0., 0., 0., 0., 0., 0., 0., 0., 0., 0., 0., 0., 0., 0., 0.,\n       0., 0., 0., 0., 0., 0., 0., 0., 0., 0., 0., 0., 0., 0., 0., 0., 0.,\n       0.]), 'beta_mg': array(0.), 'sigma_mg_interval__': array(0.), 'beta_ac': array(0.), 'sigma_ac_interval__': array(0.), 'beta_at1': array(0.), 'beta_at2': array(0.), 'beta_at3': array(0.), 'sigma_at_interval__': array(0.), 'beta_cp1': array(0.), 'beta_cp2': array(0.), 'beta_cp3': array(0.), 'sigma_cp_interval__': array(0.)}\n\nInitial evaluation results:\nalpha_ar                   49.72\nbeta_ar1                  -16.26\nbeta_ar2                  -16.26\nsigma_ar_interval__        -1.39\nalpha_alm                  24.86\nsigma_alm_interval__       -1.39\naltitude_mean_missing       0.00\nbeta_mg                    -0.23\nsigma_mg_interval__        -1.39\nbeta_ac                    -0.23\nsigma_ac_interval__        -1.39\nbeta_at1                   -0.23\nbeta_at2                   -0.23\nbeta_at3                   -0.23\nsigma_at_interval__        -1.39\nbeta_cp1                   -0.23\nbeta_cp2                   -0.23\nbeta_cp3                   -0.23\nsigma_cp_interval__        -1.39\naroma1                       NaN\naltitude_mean           -1198.93\nmoisture_1                   NaN\nacidity_1                    NaN\naftertaste_1            -1268.93\ntotalpo_1               -1268.93\nName: Log-probability of test_point, dtype: float64"
     ]
    }
   ],
   "source": [
    "with pm.Model() as model_full:\n",
    "    #Aroma\n",
    "    alpha_ar = pm.Normal('alpha_ar', mu = 0, sigma = 0.2, shape=[2,36])\n",
    "    beta_ar1 = pm.Normal('beta_ar1', mu = 0, sigma = 0.5, shape=[2,36])\n",
    "    beta_ar2 = pm.Normal('beta_ar2', mu = 0, sigma = 0.5, shape=[2,36])\n",
    "    sigma_ar = pm.Uniform('sigma_ar',0 ,1)\n",
    "    mu_ar = alpha_ar[dfull.sp, dfull[\"or\"]] + beta_ar1[dfull.sp, dfull[\"or\"]]*dfull[\"alm\"] + beta_ar2[dfull.sp, dfull[\"or\"]]*dfull.mg\n",
    "    aroma_1 = pm.Normal('aroma1', mu= mu_ar, sigma=sigma_ar, observed = dfull.ar)\n",
    "    \n",
    "    #Altitude Mean Meters\n",
    "    alpha_alm = pm.Normal('alpha_alm', mu = 0, sigma = 0.2, shape=36)\n",
    "    mu_alm = alpha_alm[dfull[\"or\"]] \n",
    "    sigma_alm = pm.Uniform('sigma_alm',0 ,1)\n",
    "    altitude_mean = pm.Normal('altitude_mean',mu_alm, sigma=sigma_alm, observed = dfull[\"alm\"])\n",
    "    \n",
    "    #Mouisture\n",
    "    beta_mg = pm.Normal('beta_mg', mu = 0, sigma = 0.5)\n",
    "    sigma_mg = pm.Uniform('sigma_mg',0 ,1)\n",
    "    mu_mg = beta_mg*dfull[\"alm\"]\n",
    "    moisture_1 = pm.Normal('moisture_1', mu= mu_mg, sigma=sigma_mg, observed = dfull.mg)\n",
    "    \n",
    "    #Acidity \n",
    "    beta_ac = pm.Normal('beta_ac', mu = 0, sigma = 0.5)\n",
    "    sigma_ac = pm.Uniform('sigma_ac',0 ,1)\n",
    "    mu_ac = beta_ac*dfull[\"alm\"]\n",
    "    acidity_1 = pm.Normal('acidity_1', mu= mu_ac, sigma=sigma_ac, observed = dfull.ac)\n",
    "    \n",
    "    #Aftertaste\n",
    "    beta_at1 = pm.Normal('beta_at1', mu = 0, sigma = 0.5)\n",
    "    beta_at2 = pm.Normal('beta_at2', mu = 0, sigma = 0.5)\n",
    "    beta_at3 = pm.Normal('beta_at3', mu = 0, sigma = 0.5)\n",
    "    sigma_at = pm.Uniform('sigma_at',0 ,1)\n",
    "    mu_at = beta_at1*dfull[\"ar\"] + beta_at2*dfull[\"mg\"] + beta_at3*dfull[\"ac\"]\n",
    "    aftertaste_1 = pm.Normal('aftertaste_1', mu= mu_at, sigma=sigma_at, observed = dfull[\"at\"])\n",
    "    \n",
    "    #Total Cup Points\n",
    "    \n",
    "    beta_cp1 = pm.Normal('beta_cp1', mu = 0, sigma = 0.5)\n",
    "    beta_cp2 = pm.Normal('beta_cp2', mu = 0, sigma = 0.5)\n",
    "    beta_cp3 = pm.Normal('beta_cp3', mu = 0, sigma = 0.5)\n",
    "    sigma_cp = pm.Uniform('sigma_cp',0 ,1)\n",
    "    mu_cp = beta_cp1*dfull[\"ar\"] + beta_cp2*dfull[\"at\"] + beta_cp3*dfull[\"ac\"]\n",
    "    totalpo_1 = pm.Normal('totalpo_1', mu= mu_cp, sigma=sigma_cp, observed = dfull.cp)\n",
    "    \n",
    "    \n",
    "    \n",
    "    trace_model_full = pm.sample(1000, tune = 1000, return_inferencedata=True)\n",
    "    \n",
    "    #I got an error and I couldnt find the reason.\n"
   ]
  }
 ],
 "metadata": {
  "interpreter": {
   "hash": "7f866c36533c444870bb253ccbe5b2c527c92ceb47bf0c4575004aac9e208358"
  },
  "kernelspec": {
   "display_name": "Python 3 (ipykernel)",
   "language": "python",
   "name": "python3"
  },
  "language_info": {
   "codemirror_mode": {
    "name": "ipython",
    "version": 3
   },
   "file_extension": ".py",
   "mimetype": "text/x-python",
   "name": "python",
   "nbconvert_exporter": "python",
   "pygments_lexer": "ipython3",
   "version": "3.9.12"
  }
 },
 "nbformat": 4,
 "nbformat_minor": 2
}
